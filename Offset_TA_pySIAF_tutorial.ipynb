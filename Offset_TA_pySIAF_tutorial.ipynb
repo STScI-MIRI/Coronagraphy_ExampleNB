{
 "cells": [
  {
   "cell_type": "markdown",
   "id": "9006dac5-5a48-4d27-befd-0e08e137d2b0",
   "metadata": {},
   "source": [
    "# Computing APT offsets for target acquisition on a different star with the MIRI coronagraphs\n",
    "\n",
    "There are several science cases in which an observer may wish to perform target acquisition (TA) on a target other than their science target, and then slew to place the true science target in the nulling position of the coronagraphs. Examples include both very bright targets, which may saturate the detector in a single read, and very faint targets, which would require prohibitively long exposure times if TA were performed on them directly. Documentation on the multi-stage TA process can be found here: https://jwst-docs.stsci.edu/jwst-mid-infrared-instrument/miri-operations/miri-target-acquisition/miri-coronagraphic-imaging-target-acquisition. In this case, there are 4 steps:\n",
    "1. Blind pointing puts the TA star somewhere near the reference point of the *outer* TA region.\n",
    "2. A small angle maneuver moves the TA star to the reference point of the *inner* TA region.\n",
    "3. A second small angle maneuver moves the TA star to the reference position of the coronagraph. For the coronagraphs, the reference position is the position of maximum starlight suppression.\n",
    "4. An offset is applied to slew the telescope such that the coronagraph reference position is now pointing at the science target.\n",
    "\n",
    "We are interested in computing the offset applied in step 4.\n",
    "\n",
    "This notebook gives an example of how to translate between the sky coordinates (RA, Dec) of the two targets and the various internal telescope coordinate systems, in order to determine the proper values to use for the Offset special requirements in APT (described here: https://jwst-docs.stsci.edu/jppom/special-requirements/general-special-requirements#GeneralSpecialRequirements-Offset). \n",
    "\n",
    "We will be using for our example the JWST-GO-1618 observing program on Alpha Centauri. Alpha Cen is so bright that it saturates the detector in all filters, meaning TA must be performed on a nearby, fainter star instead. The program information is available here: https://www.stsci.edu/jwst/science-execution/program-information.html?id=1618 (see Program Contents -> APT file or Public PDF).\n",
    "\n",
    "Starting with the RA and Dec coordinates of Alpha Cen and its TA star, we will translate those coordinates into relative positions in the coronagraphic apertures using STScI-developed software called pySIAF (https://pysiaf.readthedocs.io/en/latest/). The one piece of additional information we will need is the telescope's orientation, for a given telescope orientation, described by the position angle (PA) of the telescope's V3 axis. The allowed PA range of the telescope at a given epoch can be found using the various target visibility tools here (https://jwst-docs.stsci.edu/jwst-other-tools/jwst-target-visibility-tools).\n",
    "\n",
    "pySIAF is a python-based interface to the Science Instrument Aperture File (SIAF). The SIAF contains the positions of nearly every telescope element of interest. pySIAF has all the information contained in the SIAF, as well as tools to compute relative positions in a number of different coordinate systems (including the sky). To install pySIAF in a new conda environment, first create the environment with `conda create -n pysiaf`, then activate it with `conda activate pysiaf`. You can then install pySIAF from `pip` with `pip install pysiaf`, or directly from the github repository using the instructions in the documentation. Please ensure you are using a recent version, as earlier versions of pySIAF did not have the correct coronagraph center positions.\n",
    "\n",
    "Documentation on the different coordinate systems used by JWST and pySIAF can be found here: https://jwst-docs.stsci.edu/jwst-observatory-characteristics/jwst-observatory-coordinate-system-and-field-of-regard.\n",
    "\n",
    "\n",
    "## Notebook requirements\n",
    "Other non-standard packages used besides pySIAF are:\n",
    "- matplotlib\n",
    "- numpy\n",
    "- astropy"
   ]
  },
  {
   "cell_type": "code",
   "execution_count": 1,
   "id": "de7b795d-d283-43ab-8b61-fc34ffd76cff",
   "metadata": {},
   "outputs": [],
   "source": [
    "import numpy as np\n",
    "# plotting\n",
    "import matplotlib as mpl\n",
    "from matplotlib import pyplot as plt"
   ]
  },
  {
   "cell_type": "code",
   "execution_count": 7,
   "id": "a117ec37-b351-42c7-8150-0b8f0179ad6c",
   "metadata": {},
   "outputs": [
    {
     "name": "stdout",
     "output_type": "stream",
     "text": [
      "Using matplotlib backend: MacOSX\n"
     ]
    }
   ],
   "source": [
    "# use %matplotlib inline for in-line plotting in the notebook\n",
    "%matplotlib auto\n",
    "# % matplotlib inline"
   ]
  },
  {
   "cell_type": "code",
   "execution_count": 3,
   "id": "a08fafd4-86d2-4915-af71-d064d71c9bd3",
   "metadata": {},
   "outputs": [
    {
     "name": "stderr",
     "output_type": "stream",
     "text": [
      "**WARNING**: LOCAL JWST PRD VERSION PRDOPSSOC-062 CANNOT BE CHECKED AGAINST ONLINE VERSION\n"
     ]
    }
   ],
   "source": [
    "# create a MIRI object from pySIAF\n",
    "import pysiaf\n",
    "miri = pysiaf.Siaf(\"MIRI\")"
   ]
  },
  {
   "cell_type": "code",
   "execution_count": 4,
   "id": "595a702e-105b-44bf-b16c-9b85e9f504a4",
   "metadata": {},
   "outputs": [
    {
     "name": "stdout",
     "output_type": "stream",
     "text": [
      "Current PRD version: 062\n"
     ]
    }
   ],
   "source": [
    "try:\n",
    "    prd_version = pysiaf.JWST_PRD_VERSION.split(\"-\")[-1]\n",
    "    print(f\"Current PRD version: {prd_version}\")\n",
    "    assert(int(prd_version) >= 59)\n",
    "except AssertionError:\n",
    "    print(f\"Error: pySIAF is using an outdated PRD version ({prd_version}).\")\n",
    "    print(\"Please ensure you are using PRD version >= 059.\")"
   ]
  },
  {
   "cell_type": "markdown",
   "id": "793e46dd-1ce0-48a5-99e8-d263ce291947",
   "metadata": {},
   "source": [
    "As a demonstration of what pySIAF can do, let's plot all the different MIRI-related SIAF aperture objects. This includes:\n",
    "- the 4 coronagraphs, and their 8 TA regions\n",
    "- the MRS\n",
    "- the LRS slit and slitless regions\n",
    "- the Imager subapertures (BRIGHTSKY, SUB256, SUB128, SUB64)\n",
    "\n",
    "and others. To list all the MIRI apertures that are defined in SIAF, run the command: `for i in miri.apernames: print(i)`"
   ]
  },
  {
   "cell_type": "code",
   "execution_count": 8,
   "id": "f91a03b1-6a9a-4b30-9d95-7ca679458ab5",
   "metadata": {},
   "outputs": [],
   "source": [
    "fig, axes = plt.subplots(1, 3, figsize=(15, 5))\n",
    "\n",
    "\n",
    "# show all the SIAF aperture objects inside MIRI\n",
    "ax = axes[0]\n",
    "ax.set_title(\"All the MIRI subarrays\\nV2/V3 coordinates\")\n",
    "frame = 'tel' # options are: tel (telescope), det (detector), sci (aperture)\n",
    "miri.plot(subarrays=True, label=False, clear=False, ax=ax, frame=frame)\n",
    "\n",
    "# v2/v3 coordinates\n",
    "ax = axes[1]\n",
    "ax.set_title(\"Just the imager and 1550 coronagraph\\nV2/V3 coordinates\")\n",
    "frame = 'tel' # options are: tel (telescope), det (detector), sci (aperture)\n",
    "miri.plot(subarrays=False, label=True, clear=False, ax=ax, frame=frame)\n",
    "miri['MIRIM_MASK1550'].plot(ax=ax, label=False, frame=frame)\n",
    "miri['MIRIM_CORON1550'].plot(ax=ax, label=True, frame=frame)\n",
    "\n",
    "# detector array coordinates\n",
    "ax = axes[2]\n",
    "ax.set_title(\"Same, but in MIRI detector coordinates\")\n",
    "frame = 'det' # options are: tel (telescope), det (detector), sci (aperture)\n",
    "miri.plot(subarrays=False, label=True, clear=False, ax=ax, frame=frame, fill=False)\n",
    "miri['MIRIM_MASK1550'].plot(ax=ax, label=False, frame=frame)\n",
    "miri['MIRIM_CORON1550'].plot(ax=ax, label=True, frame=frame)\n",
    "\n",
    "\n"
   ]
  },
  {
   "cell_type": "markdown",
   "id": "89e9f652-85c1-44df-ad1d-71b058b38970",
   "metadata": {},
   "source": [
    "For our purposes, we want the two apertures associated with the 4QPM_1550 coronagraph: \"MASK1550\", which corresponds to the subarray that is read out, and \"CORON1550\", which corresponds to the illuminated part of the subarray. We also want the two apertures that correspond to the regions used for target acquisition: \"TA1550_UR\", the outer region, and \"TA1550_CUR\", the inner region."
   ]
  },
  {
   "cell_type": "code",
   "execution_count": 6,
   "id": "bca2606b-5ce4-4057-a465-d5e81be09aec",
   "metadata": {},
   "outputs": [],
   "source": [
    "# now that we have the MIRI object, let's get the 1550 coronagraph apertures used in 1618.\n",
    "# There are two relevant apertures: MIRIM_MASK1550, which is the entire subarray, and MIRIM_CORON1550, which is just the portion that gets illuminated\n",
    "mask1550 = miri['MIRIM_MASK1550']\n",
    "coro1550 = miri['MIRIM_CORON1550']\n",
    "# we also want the upper right (UR) and central upper right (CUR) target acquisition apertures\n",
    "ta_ur = miri[f'MIRIM_TA1550_UR']\n",
    "ta_cur = miri[f'MIRIM_TA1550_CUR']"
   ]
  },
  {
   "cell_type": "code",
   "execution_count": null,
   "id": "f613dbf1-bd1f-484d-bd69-09dc508de185",
   "metadata": {},
   "outputs": [],
   "source": [
    "# let's show them\n",
    "fig, ax = plt.subplots()\n",
    "ax.set_title(\"Relevant 1550 apertures and reference positions\")\n",
    "for i, aper in enumerate([mask1550, coro1550, ta_ur, ta_cur]):\n",
    "    aper.plot(ax=ax, frame='det', fill=False, label=False, mark_ref=True, c=f'C{i}')\n",
    "    ax.plot([], [], c=f'C{i}', label=aper.AperName[6:])\n",
    "ax.legend(loc=(0.1,0.1), framealpha=0.8)"
   ]
  },
  {
   "cell_type": "markdown",
   "id": "ffeb0fdb-7382-4ae1-b536-e803e96758b8",
   "metadata": {},
   "source": [
    "Each of these SIAF apertures has its own coordinate system defined with repect to either its lower left corner or its reference point. To plot them all on the same set of axes we need to choose a larger aperture that contains them all, so in this case we chose the MIRI Imager detector (\"det\") reference frame. This means that these SIAF apertures are arranged according to where they lie on the detector array used by the MIRI Imager."
   ]
  },
  {
   "cell_type": "markdown",
   "id": "f661bae2-dc69-4919-9d51-7d076d3bb61c",
   "metadata": {},
   "source": [
    "## Set up target and TA stars\n",
    "\n",
    "We are going to simulate an observation of alpha Cen at two different observing epochs. In between the epochs, the telescope will roll 5.5 deg, and alpha Cen will have moved slightly due to proper motion. Let's write down where each star is at each epoch, and the telescopes's nominal V3 axis PA angle at that epoch."
   ]
  },
  {
   "cell_type": "code",
   "execution_count": null,
   "id": "89580432-80ab-490a-8c7b-d07c81ca922c",
   "metadata": {},
   "outputs": [],
   "source": [
    "from astropy import units\n",
    "from astropy.coordinates import SkyCoord"
   ]
  },
  {
   "cell_type": "markdown",
   "id": "af36f034-cb1b-4352-932e-79d8daefd417",
   "metadata": {},
   "source": [
    "Let's use a dictionary to keep track of the required quantities at the two observing epochs\n",
    "- RA and Dec for Alpha Cen A, the science target\n",
    "- RA and Dec for Alpha Cen's TA star, because Alpha Cen is too bright to look at directly\n",
    "- the v3 angles of the telescope at the observing epochs, with a 5.5 deg roll between them\n",
    "\n"
   ]
  },
  {
   "cell_type": "code",
   "execution_count": null,
   "id": "b98dd76f-ce31-4d25-ae46-3231f97ae16b",
   "metadata": {},
   "outputs": [],
   "source": [
    "epoch_positions = {'epoch1': {# Obs Date: 2023.5658281998635\n",
    "                               'ta_star': SkyCoord(ra=219.87761048, dec=-60.82838556, unit='deg', frame='icrs'),\n",
    "                               'alpCen': SkyCoord(ra=219.84990694501352, dec=-60.8318142140054, unit='deg', frame='icrs'),\n",
    "                               'v3': 100.25,\n",
    "                              },\n",
    "                    \n",
    "                    'epoch2': {# Obs date:  2023.566978097194\n",
    "                               'ta_star': SkyCoord(ra=219.87761048, dec=-60.82838556, unit='deg', frame='icrs'),\n",
    "                               'alpCen': SkyCoord(ra=219.849903962358, dec=-60.831812984424005, unit='deg', frame='icrs'),\n",
    "                               'v3': 94.75,\n",
    "                              }\n",
    "                   }"
   ]
  },
  {
   "cell_type": "markdown",
   "id": "bd587d3a-61c5-454e-9304-dbc351538834",
   "metadata": {},
   "source": [
    "## Convert sky to instrument coordinates\n",
    "\n",
    "If we put the TA star in the center of the 1550 coronagraph, where is alpha Cen in 1550 coronagraph coordinates? Let's convert these sky coordinates into the relevant coordinates for the instrument, at the 4 stages of our target acquisition sequence (outer, inner, centered, offset).\n",
    "\n",
    "Here are a few JDox pages that explain the different coordinate systems used to define the relative positions of detectors and apertures within the telescope:\n",
    "- https://jwst-docs.stsci.edu/jwst-observatory-characteristics/jwst-observatory-coordinate-system-and-field-of-regard\n",
    "- https://jwst-docs.stsci.edu/jwst-observatory-characteristics/jwst-field-of-view\n",
    "- https://jwst-docs.stsci.edu/jwst-observatory-characteristics/jwst-observatory-coordinate-system-and-field-of-regard/jwst-instrument-ideal-coordinate-systems\n",
    "\n",
    "The positions of the telescope elements with respect to each other is described by the telescope (\"tel\") coordinate system. Then, each instrument/detector/sub-aperture has its own ideal (\"idl\") coordinate system, which is described in distortion-corrected arcsec centered on its reference position. Translating between the tel and idl coordinate systems is handled transparently to the user by pySIAF. In order to go between tel and sky (e.g. RA, Dec) coordinates, the only value needed is the PA angle of the telescope's V3 axis at the time of observation. The range of possible PA angles at a given time can be found using any of the JWST target visibility tools (https://jwst-docs.stsci.edu/jwst-other-tools/jwst-target-visibility-tools). \n",
    "\n",
    "idl coordinates are used for the \"Offset\" special requirement in APT."
   ]
  },
  {
   "cell_type": "markdown",
   "id": "a8d7b45f-a729-40c3-8d9d-02aa88e6ed25",
   "metadata": {},
   "source": [
    "The following function computes the attitude matrix for the telescope at a given PA (the angle of the V3 axis w.r.t. North), and returns the subarray coordinates of the TA and science targets in the idl coordinate frame. IDL coordinates are defined with the origin (0, 0) at the reference point of the aperture, and distance being measured in distortion-corrected arcsec. For the coronagraphs, the reference point is defined as the nulling point of the phase mask / (hopefully) the position of maximum starlight suppression."
   ]
  },
  {
   "cell_type": "code",
   "execution_count": null,
   "id": "3ba0a6fd-2307-40da-b91c-53d9230f2c4e",
   "metadata": {},
   "outputs": [],
   "source": [
    "def sky_to_idl(ta_pos, targ_pos, aper, pa):\n",
    "    \"\"\"\n",
    "    Convert RA and Dec positions of a TA star and its target with an offset into a detector position (measured from the reference point, in arcsec)\n",
    "    for a given PA of the V3 axis w.r.t. North. \n",
    "    Assume the TA star is centered on the aperture (idl = (0, 0))\n",
    "    \n",
    "    Parameters\n",
    "    ----------\n",
    "    ta_pos : SkyCoord object of the TA star position\n",
    "    targ_pos : SkyCoord object of the target star position\n",
    "    aper : SIAF object for the aperture being used (e.g. MIRIM_CORON1550)\n",
    "    pa : the PA in degrees of the V3 axis of the telescope (measured eastward of North) at the observation epoch\n",
    "    \n",
    "    Output\n",
    "    ------\n",
    "    idl_coords : dict {'ta': tuple, 'targ': tuple}\n",
    "      a dictionary of IDL x, y coordinates for the TA star and the science target\n",
    "      the TA star coordinates should be very close to 0\n",
    "    \"\"\"\n",
    "    v2, v3 = aper.reference_point('tel')\n",
    "    # compute the attitude matrix when we're pointing directly at the TA target\n",
    "    attmat = pysiaf.utils.rotations.attitude_matrix(v2, v3, \n",
    "                                                    ra=ta_pos.ra.deg, \n",
    "                                                    dec=ta_pos.dec.deg, \n",
    "                                                    pa=pa)\n",
    "    aper.set_attitude_matrix(attmat)\n",
    "    idl_coords = {}\n",
    "    # ta star - should be close to 0\n",
    "    idl_coords['ta'] = np.array(aper.sky_to_idl(ta_pos.ra.deg, ta_pos.dec.deg))\n",
    "    # eps Mus\n",
    "    idl_coords['targ'] = np.array(aper.sky_to_idl(targ_pos.ra.deg, targ_pos.dec.deg))\n",
    "    return idl_coords"
   ]
  },
  {
   "cell_type": "markdown",
   "id": "d67a64d0-27ac-46dc-a108-6d9ad8ff6420",
   "metadata": {},
   "source": [
    "## Compute idl coordinates of each star\n",
    "\n",
    "Finally we are ready to compute the position, in IDL coordinates, of each star in each epoch."
   ]
  },
  {
   "cell_type": "code",
   "execution_count": null,
   "id": "49904ec6-571a-45fa-b1cd-ef3222300f8c",
   "metadata": {},
   "outputs": [],
   "source": [
    "alphaCen_idl_coords = {}\n",
    "for e, p in epoch_positions.items():\n",
    "    alphaCen_idl_coords[e] = sky_to_idl(p['ta_star'], \n",
    "                                        p['alpCen'],\n",
    "                                        coro1550, \n",
    "                                        p['v3']) "
   ]
  },
  {
   "cell_type": "markdown",
   "id": "d61d75ab-e28c-4780-b787-c7105583788c",
   "metadata": {},
   "source": [
    "Let's examine the results"
   ]
  },
  {
   "cell_type": "code",
   "execution_count": null,
   "id": "266cfb90-57e6-404e-a08f-62036aed9876",
   "metadata": {},
   "outputs": [],
   "source": [
    "print(\"The positions of the TA star should be close to (0, 0):\")\n",
    "for epoch, pos in alphaCen_idl_coords.items():\n",
    "    print(f\"\\tEpoch {epoch[-1]}:\", ', '.join(f\"{i:+0.3e}\" for i in pos['ta']), \"arcsec\")"
   ]
  },
  {
   "cell_type": "markdown",
   "id": "f14c331a-63f5-4343-9cc3-b26f81727ca9",
   "metadata": {},
   "source": [
    "As you can see, the TA star is well-centered on the coronagraph (by design). \n",
    "\n",
    "Where is alpha Cen, when the TA star is in the nulling position?"
   ]
  },
  {
   "cell_type": "code",
   "execution_count": null,
   "id": "eaf17814-dfac-4308-9151-04dd97a39271",
   "metadata": {},
   "outputs": [],
   "source": [
    "print(\"The positions of alpha Cen in the two epochs are:\")\n",
    "for epoch, pos in alphaCen_idl_coords.items():\n",
    "    print(f\"\\tEpoch {epoch[-1]}:\", ', '.join(f\"{i:+0.3f}\" for i in pos['targ']), \"arcsec\")"
   ]
  },
  {
   "cell_type": "markdown",
   "id": "79133322-969c-4299-bc96-9b0da9d723b7",
   "metadata": {},
   "source": [
    "What does this look like, from the point of view of the instrument?"
   ]
  },
  {
   "cell_type": "code",
   "execution_count": null,
   "id": "238acc4b-d331-48f8-8b50-e81dd712694c",
   "metadata": {},
   "outputs": [],
   "source": [
    "fig, ax = plt.subplots(1, 1, )\n",
    "ax.set_title(\"\"\"alpha Cen positions\n",
    "*before* offset slew\"\"\")\n",
    "frame = 'idl' # options are: tel (telescope), det (detector), sci (aperture)\n",
    "mask1550.plot(ax=ax, label=False, frame=frame, c='C0')\n",
    "coro1550.plot(ax=ax, label=False, frame=frame, c='C1', mark_ref=True)\n",
    "ax.scatter(0, 0, c='C2', label='TA star', marker='*', s=100)\n",
    "for epoch, pos in alphaCen_idl_coords.items():\n",
    "    print(f\"\\tEpoch {epoch[-1]}:\", ', '.join(f\"{i:+0.3f}\" for i in pos['targ']), \"arcsec\")\n",
    "    ax.scatter(*pos['targ'], label=\"alpha Cen \" + epoch[-1], c=f'C{int(epoch[-1])+2}', marker=\"*\")\n",
    "ax.legend()\n",
    "ax.set_aspect(\"equal\")"
   ]
  },
  {
   "cell_type": "markdown",
   "id": "298fe415-f36a-43c9-ba57-b7354b2c88ba",
   "metadata": {},
   "source": [
    "## Compute the offsets"
   ]
  },
  {
   "cell_type": "markdown",
   "id": "81d8bb18-3603-4a8d-8e00-d707d37300b1",
   "metadata": {},
   "source": [
    "In APT, the `Special Requirements: Offset` is defined such that if you have an object at the reference position ((0, 0), in IDL), the offset will move the telescope so that the object appears at the specified position. Therefore, to move Alpha Cen to the center, we need to move the TA star to the *negative* of Alpha Cen's position.\n",
    "\n",
    "Reference: https://jwst-docs.stsci.edu/jppom/special-requirements/general-special-requirements#GeneralSpecialRequirements-Offset"
   ]
  },
  {
   "cell_type": "code",
   "execution_count": null,
   "id": "09677544-96fe-4c05-9484-51479de229d1",
   "metadata": {},
   "outputs": [],
   "source": [
    "offsets = {e: -1*np.array(p['targ']) for e, p in alphaCen_idl_coords.items()}\n",
    "for e, offset in offsets.items():\n",
    "    print(f\"Epoch {e[-1]}\")\n",
    "    print(\"alpha Cen is at:\")\n",
    "    print(f\"\\tdX: {alphaCen_idl_coords[e]['targ'][0]:2.3f} arcsec\")\n",
    "    print(f\"\\tdY: {alphaCen_idl_coords[e]['targ'][1]:2.3f} arcsec\")\n",
    "\n",
    "    print(\"Therefore, the commanded offsets that will move the coronagraph from the TA star to alpha Cen are:\")\n",
    "    print(f\"\\tdX: {offset[0]:2.3f} arcsec\")\n",
    "    print(f\"\\tdY: {offset[1]:2.3f} arcsec\")"
   ]
  },
  {
   "cell_type": "markdown",
   "id": "022adb1b-bcd1-4ff4-a717-796d6dde07f5",
   "metadata": {},
   "source": [
    "These are the coordinates to enter into the `Special Requirements: Offset` field."
   ]
  },
  {
   "cell_type": "markdown",
   "id": "cfbbbd12-67c9-4675-8819-a663870122e0",
   "metadata": {},
   "source": [
    "# alpha Cen TA sequence\n",
    "\n",
    "Let's look at the whole TA sequence from the point of view of the coronagraph, and the sky. We'll have four plots: \n",
    "- the two TA steps as described here: https://jwst-docs.stsci.edu/jwst-mid-infrared-instrument/miri-operations/miri-target-acquisition/miri-coronagraphic-imaging-target-acquisition\n",
    "- the TA star centered on the coronagraph, before the offset is applied\n",
    "- alpha Cen centered on the coronagraph, after the offset is applied\n",
    "\n",
    "The box around the TA star in the first two rows shows the region of the subarray used for target acquisition. These plots have to be done in detector coordinates in order to show the TA region, but that's just because of the quirks of the pySIAF plotting tools.\n",
    "\n",
    "The '+' sign in the plots (present but harder to see in the plots on the right) indicates the nulling position of the coronagraph.\n",
    "\n",
    "Note that the x- and y-axes are in detector pixel coordinates, which is distinct from subarray or IDL coordinates."
   ]
  },
  {
   "cell_type": "code",
   "execution_count": null,
   "id": "0fa0f598-dd45-4710-be72-ad00ba36c455",
   "metadata": {
    "tags": []
   },
   "outputs": [],
   "source": [
    "# Select your TA quadrant. \n",
    "# Options are: UR (upper right, Q1), UL (upper left, Q2), LL (lower left, Q3) or LR (lower right, Q4).\n",
    "# A preceding \"C\" (CUL, CUL, CLL, CLR) indicates the inner TA region.\n",
    "ta_apers = {\"UR\": miri[f'MIRIM_TA1550_UR'],\n",
    "            \"CUR\": miri[f'MIRIM_TA1550_CUR']\n",
    "           }\n",
    "# use these apertures to compute the relative positions for every TA option.\n",
    "# really though it should be the same relative offset everywhere on the detector\n",
    "# alphacen_coords_ta = {aper_id: sky_to_idl(aC_ta_star_coord, alpha_Cen_coord, aper, pav3) for aper_id, aper in ta_apers.items()}\n",
    "alphacen_ta_sequence = {}\n",
    "for aper_id, aper in ta_apers.items():\n",
    "    alphacen_ta_sequence[aper_id] = sky_to_idl(epoch_positions['epoch1']['ta_star'], \n",
    "                                               epoch_positions['epoch1']['alpCen'], \n",
    "                                               aper, \n",
    "                                               epoch_positions['epoch1']['v3'])"
   ]
  },
  {
   "cell_type": "code",
   "execution_count": null,
   "id": "d823d6ce-58ff-429c-a663-0eecba777f3d",
   "metadata": {},
   "outputs": [],
   "source": [
    "epoch = 'epoch1'\n",
    "nrows = 1\n",
    "ncols = 4\n",
    "fig, axes = plt.subplots(nrows=nrows, ncols=ncols, figsize=(2*ncols, 4*nrows), sharex=True, sharey=True)\n",
    "fig.suptitle(f\"alpha Cen TA sequence for Epoch {epoch[-1]}, as seen by the detector\")\n",
    "\n",
    "# plot the SIAF apertures on every plot\n",
    "for ax in axes:\n",
    "    mask1550.plot(ax=ax, label=False, frame='det', fill=False, c='C0')\n",
    "    ax.plot([], [], c='C0', label='Readout')\n",
    "    coro1550.plot(ax=ax, label=False, frame='det', mark_ref=True, fill=False, c='C1')\n",
    "    ax.plot([], [], c='C1', label='Illuminated')\n",
    "    for aper in ta_apers.values():\n",
    "        aper.plot(ax=ax, label=False, frame='det', mark_ref=True, fill=False, c='C2')\n",
    "    ax.plot([], [], c='C2', label='TA regions')\n",
    "\n",
    "# plot the positions of the stars at each step in the TA sequence\n",
    "\n",
    "# Outer TA\n",
    "ax = axes[0]\n",
    "ta_aper_id = \"UR\"\n",
    "ax.set_title(\"Step 1\\n\" + f\"{ta_aper_id} TA region\")\n",
    "\n",
    "# use the TA aperture object to convert coordinates\n",
    "ta_aper = ta_apers[ta_aper_id]\n",
    "ta_pos = ta_aper.idl_to_det(*alphacen_ta_sequence[ta_aper_id]['ta'])\n",
    "targ_pos = ta_aper.idl_to_det(*alphacen_ta_sequence[ta_aper_id]['targ'])\n",
    "\n",
    "ax.scatter(*ta_pos, \n",
    "           c='k', label='TA star', marker='x', s=100)\n",
    "ax.scatter(*targ_pos,\n",
    "           c='k', label='alpha Cen', marker='*', s=100)\n",
    "\n",
    "# put the legend on this plot\n",
    "ax.legend(loc='best', ncol=1, fontsize='small', markerscale=0.7)\n",
    "\n",
    "# Inner TA\n",
    "ax = axes[1]\n",
    "ta_aper_id = 'CUR'\n",
    "ax.set_title(\"Step 2\\n\" + f\"{ta_aper_id} TA region\")\n",
    "# use the TA aperture object to convert coordinates\n",
    "ta_aper = ta_apers[ta_aper_id]\n",
    "ta_aper.plot(ax=ax, label=False, frame='det', mark_ref=True, fill=False, c='C2')\n",
    "\n",
    "ta_pos = ta_aper.idl_to_det(*alphacen_ta_sequence[ta_aper_id]['ta'])\n",
    "targ_pos = ta_aper.idl_to_det(*alphacen_ta_sequence[ta_aper_id]['targ'])\n",
    "\n",
    "ax.scatter(*ta_pos, \n",
    "           c='k', label='TA star', marker='x', s=100)\n",
    "ax.scatter(*targ_pos, \n",
    "           c='k', label='alpha Cen', marker='*', s=100)\n",
    "\n",
    "# TA star centered\n",
    "ax = axes[2]\n",
    "ax.set_title(\"Step 3\\n\" + \"TA star centered\")\n",
    "# plot the final TA before the offset is applied\n",
    "ax.scatter(*coro1550.idl_to_det(*alphaCen_idl_coords['epoch1']['ta']), c='k', label='TA star', marker='x', s=100)\n",
    "ax.scatter(*coro1550.idl_to_det(*alphaCen_idl_coords['epoch1']['targ']), c='k', label='alpha Cen', marker='*', s=100)\n",
    "\n",
    "# Offset applied\n",
    "ax = axes[3]\n",
    "ax.set_title(\"Step 4\\n\" + \"Offset applied\")\n",
    "# apply the offset to the position\n",
    "ta_pos  = coro1550.idl_to_det(*np.array(alphacen_ta_sequence['UR']['ta']) + offsets['epoch1'])\n",
    "targ_pos = coro1550.idl_to_det(*np.array(alphacen_ta_sequence['UR']['targ']) + offsets['epoch1'])\n",
    "ax.scatter(*ta_pos, \n",
    "           c='k', label='TA star', marker='x', s=100)\n",
    "ax.scatter(*targ_pos, \n",
    "           c='k', label='alpha Cen', marker='*', s=100)\n",
    "\n",
    "\n",
    "for ax in axes:\n",
    "    # plot customizations\n",
    "    ax.label_outer()\n",
    "    ax.set_aspect('equal')\n",
    "\n",
    "fig.tight_layout()  "
   ]
  },
  {
   "cell_type": "markdown",
   "id": "501947bb-4c11-4b82-819e-4bb6d50529e2",
   "metadata": {},
   "source": [
    "Now let's make the same plot, but in RA/Dec"
   ]
  },
  {
   "cell_type": "code",
   "execution_count": null,
   "id": "34e530b4-6f40-4d57-a882-f49798c02f1b",
   "metadata": {},
   "outputs": [],
   "source": [
    "import matplotlib.ticker as ticker"
   ]
  },
  {
   "cell_type": "code",
   "execution_count": null,
   "id": "da3300a4-d10d-4b01-8bce-8a46073f9044",
   "metadata": {},
   "outputs": [],
   "source": [
    "epoch = 'epoch1'\n",
    "nrows = 4\n",
    "ncols = 1\n",
    "fig, axes = plt.subplots(nrows=nrows, ncols=ncols,\n",
    "                         #figsize=(6*ncols, 10*nrows),\n",
    "                         sharex=True, sharey=True)\n",
    "# fig.suptitle(f\"alpha Cen TA sequence for Epoch {epoch[-1]}, in RA/Dec\")\n",
    "\n",
    "\n",
    "# we can start by plotting alpha Cen and the TA star on every axis, since they don't move\n",
    "for ax in axes.ravel():\n",
    "    ta_pos = (epoch_positions[epoch]['ta_star'].ra.deg, epoch_positions[epoch]['ta_star'].dec.deg)\n",
    "    targ_pos = (epoch_positions[epoch]['alpCen'].ra.deg, epoch_positions[epoch]['alpCen'].dec.deg)    \n",
    "    ax.scatter(*ta_pos,\n",
    "               c='k', label='TA star', marker='x', s=100)\n",
    "    ax.scatter(*targ_pos,\n",
    "               c='k', label='alpha Cen', marker='*', s=100)    \n",
    "\n",
    "# let's combine all the SIAF objects in a dict for convenience\n",
    "all_apers = {}\n",
    "all_apers['UR'] = ta_apers['UR']\n",
    "all_apers['CUR'] = ta_apers['CUR']\n",
    "all_apers['coro'] = coro1550\n",
    "all_apers['mask'] = mask1550\n",
    "\n",
    "\n",
    "# We start TA in the outer TA region\n",
    "ax = axes[0]\n",
    "ax.set_title(f\"Step 1: UR TA region\")\n",
    "\n",
    "aper = all_apers['UR']\n",
    "\n",
    "# the telescope is now pointing the *outer* TA region at the TA star\n",
    "v2, v3 = ta_aper.reference_point('tel')\n",
    "# compute the attitude matrix when we're pointing directly at the TA target\n",
    "attmat = pysiaf.utils.rotations.attitude_matrix(v2, v3, \n",
    "                                                ra=epoch_positions[epoch]['ta_star'].ra.deg, \n",
    "                                                dec=epoch_positions[epoch]['ta_star'].dec.deg, \n",
    "                                                pa=epoch_positions[epoch]['v3'])\n",
    "for k, aper in all_apers.items():\n",
    "    aper.set_attitude_matrix(attmat)\n",
    "    aper.plot(ax=ax, label=False, frame='sky', fill=False, c='grey')\n",
    "\n",
    "\n",
    "\n",
    "# Continue to step 2 of TA, in the inner TA region\n",
    "ax = axes[1]\n",
    "\n",
    "ax.set_title(f\"Step 2: CUR TA region\")\n",
    "\n",
    "aper = all_apers['CUR']\n",
    "\n",
    "# the telescope is now pointing the *inner* TA region at the TA star\n",
    "v2, v3 = aper.reference_point('tel')\n",
    "# compute the attitude matrix when we're pointing the inner TA region at the TA target\n",
    "attmat = pysiaf.utils.rotations.attitude_matrix(v2, v3, \n",
    "                                                ra=epoch_positions[epoch]['ta_star'].ra.deg, \n",
    "                                                dec=epoch_positions[epoch]['ta_star'].dec.deg, \n",
    "                                                pa=epoch_positions[epoch]['v3'])\n",
    "for k, aper in all_apers.items():\n",
    "    aper.set_attitude_matrix(attmat)\n",
    "    aper.plot(ax=ax, label=False, frame='sky', fill=False, c='grey')\n",
    "\n",
    "\n",
    "# plot the final TA before the offset is applied\n",
    "ax = axes[2]\n",
    "ax.set_title(\"Step 3: Centered\")\n",
    "\n",
    "# the telescope is now pointing the center of the coronagraph at the TA star\n",
    "v2, v3 = coro1550.reference_point('tel')\n",
    "# compute the attitude matrix when we're pointing directly at the TA target\n",
    "attmat = pysiaf.utils.rotations.attitude_matrix(v2, v3, \n",
    "                                                ra=epoch_positions[epoch]['ta_star'].ra.deg, \n",
    "                                                dec=epoch_positions[epoch]['ta_star'].dec.deg, \n",
    "                                                pa=epoch_positions[epoch]['v3'])\n",
    "for k, aper in all_apers.items():\n",
    "    aper.set_attitude_matrix(attmat)\n",
    "    aper.plot(ax=ax, label=False, frame='sky', fill=False, c='grey')\n",
    "\n",
    "\n",
    "ax = axes[3]\n",
    "ax.set_title(\"Step 4: Offset applied\")\n",
    "# the telescope now slews to alpha Cen\n",
    "v2, v3 = coro1550.reference_point('tel')\n",
    "# compute the RA and Dec of the pointing using the offset values you found earlier\n",
    "# # note that you must CHANGE THE SIGN OF THE SLEW with respect to the previous plot\n",
    "# ra, dec = coro1550.idl_to_sky(*np.array(alphacen_coords_ta['UR']['ta']) + aC_slew)\n",
    "ra, dec = coro1550.idl_to_sky(*(-offsets[epoch]))\n",
    "\n",
    "attmat = pysiaf.utils.rotations.attitude_matrix(v2, v3, \n",
    "                                                ra=ra, \n",
    "                                                dec=dec, \n",
    "                                                pa=epoch_positions[epoch]['v3'])\n",
    "for k, aper in all_apers.items():\n",
    "    aper.set_attitude_matrix(attmat)\n",
    "    aper.plot(ax=ax, label=False, frame='sky', fill=False, c='grey')\n",
    "\n",
    "\n",
    "for ax in axes:\n",
    "    # plot customizations\n",
    "    ax.set_ylabel(\"Dec [deg]\")\n",
    "    ax.set_xlabel(\"RA [deg]\")\n",
    "    ax.label_outer()\n",
    "    ax.set_aspect(\"equal\") \n",
    "    \n",
    "    # fix x-axis labels\n",
    "    ax.xaxis.set_major_formatter(ticker.FormatStrFormatter('%0.2f'))\n",
    "    \n",
    "fig.tight_layout()"
   ]
  },
  {
   "cell_type": "markdown",
   "id": "2d1fbf9e-8bd4-4712-bdd3-dda5f1286bcf",
   "metadata": {},
   "source": [
    "We can also combine these all in a single plot, as a different way to visualize the sequence."
   ]
  },
  {
   "cell_type": "code",
   "execution_count": null,
   "id": "7c57c47b-39c6-4da7-8334-cb7f1c7483e0",
   "metadata": {},
   "outputs": [],
   "source": [
    "def plot_apers(ax, attmat, format_dict):\n",
    "    \"\"\"\n",
    "    Helper function to plot the apertures for a given part of the TA sequence\n",
    "    ax : axis to plot on\n",
    "    attmat : attitude matrix\n",
    "    format_dict : aperture plot formatting parameters\n",
    "    \"\"\"\n",
    "    for k, aper in all_apers.items():\n",
    "        aper.set_attitude_matrix(attmat)\n",
    "        formatting = format_dict.copy()\n",
    "        if k == 'mask':\n",
    "            formatting['mark_ref'] = True\n",
    "        if k == 'coro':\n",
    "            pass\n",
    "        else:\n",
    "            aper.plot(ax=ax, label=False, frame='sky', fill=False, **formatting)\n",
    "\n",
    "\n",
    "epoch = 'epoch1'\n",
    "nrows = 1\n",
    "ncols = 1\n",
    "fig, ax = plt.subplots(nrows=nrows, ncols=ncols, figsize=(15, 5))\n",
    "fig.suptitle(f\"alpha Cen TA sequence for Epoch {epoch[-1]}, in RA/Dec\")\n",
    "colors = mpl.cm.plasma_r(np.linspace(0.2, 0.9, 4))\n",
    "\n",
    "# we can start by plotting alpha Cen and the TA star\n",
    "ta_pos = (epoch_positions[epoch]['ta_star'].ra.deg, epoch_positions[epoch]['ta_star'].dec.deg)\n",
    "targ_pos = (epoch_positions[epoch]['alpCen'].ra.deg, epoch_positions[epoch]['alpCen'].dec.deg)    \n",
    "ax.scatter(*ta_pos,\n",
    "           c='k', label='TA star', marker='x', s=100)\n",
    "ax.scatter(*targ_pos,\n",
    "           c='k', label='alpha Cen', marker='*', s=100)    \n",
    "\n",
    "# We start TA in the outer TA region\n",
    "aper = all_apers[\"UR\"]\n",
    "# the telescope is now pointing the *outer* TA region at the TA star\n",
    "v2, v3 = aper.reference_point('tel')\n",
    "# compute the attitude matrix when we're pointing directly at the TA target\n",
    "attmat = pysiaf.utils.rotations.attitude_matrix(v2, v3, \n",
    "                                                ra=epoch_positions[epoch]['ta_star'].ra.deg, \n",
    "                                                dec=epoch_positions[epoch]['ta_star'].dec.deg, \n",
    "                                                pa=epoch_positions[epoch]['v3'])\n",
    "formatting = dict(c=colors[0], alpha=1, ls='dotted')\n",
    "plot_apers(ax, attmat, formatting)\n",
    "ax.plot([], [], \n",
    "        **formatting,\n",
    "        label='Step 1: Outer TA step')\n",
    "\n",
    "\n",
    "# Continue to step 2 of TA, in the inner TA region\n",
    "aper = all_apers[\"CUR\"]\n",
    "# the telescope is now pointing the *outer* TA region at the TA star\n",
    "v2, v3 = aper.reference_point('tel')\n",
    "# compute the attitude matrix when we're pointing directly at the TA target\n",
    "attmat = pysiaf.utils.rotations.attitude_matrix(v2, v3, \n",
    "                                                ra=epoch_positions[epoch]['ta_star'].ra.deg, \n",
    "                                                dec=epoch_positions[epoch]['ta_star'].dec.deg, \n",
    "                                                pa=epoch_positions[epoch]['v3'])\n",
    "formatting = dict(c=colors[1], alpha=1, ls='dashdot')\n",
    "plot_apers(ax, attmat, formatting)\n",
    "ax.plot([], [], \n",
    "        **formatting,\n",
    "        label='Step 2: Inner TA step')    \n",
    "\n",
    "# plot the final TA before the offset is applied\n",
    "\n",
    "# the telescope is now pointing the center of the coronagraph at the TA star\n",
    "v2, v3 = coro1550.reference_point('tel')\n",
    "# compute the attitude matrix when we're pointing directly at the TA target\n",
    "attmat = pysiaf.utils.rotations.attitude_matrix(v2, v3, \n",
    "                                                ra=epoch_positions[epoch]['ta_star'].ra.deg, \n",
    "                                                dec=epoch_positions[epoch]['ta_star'].dec.deg, \n",
    "                                                pa=epoch_positions[epoch]['v3'])\n",
    "formatting = dict(c=colors[2], alpha=1, ls='dashed')\n",
    "plot_apers(ax, attmat, formatting)\n",
    "ax.plot([], [], \n",
    "        **formatting, \n",
    "        label='Step 3: Before offset')    \n",
    "\n",
    "\n",
    "# ax = axes[3]\n",
    "# the telescope now places the TA star at the commanded offset\n",
    "v2, v3 = coro1550.reference_point('tel')\n",
    "# note that you must CHANGE THE SIGN OF THE OFFSET to get the position of the reference point\n",
    "ra, dec = coro1550.idl_to_sky(*(-offsets[epoch]))\n",
    "attmat = pysiaf.utils.rotations.attitude_matrix(v2, v3, \n",
    "                                                ra=ra, \n",
    "                                                dec=dec, \n",
    "                                                pa=epoch_positions[epoch]['v3'])\n",
    "formatting = dict(c=colors[3], alpha=1, ls='solid')    \n",
    "plot_apers(ax, attmat, formatting)\n",
    "ax.plot([], [],\n",
    "        **formatting,\n",
    "        label='Step 4: After offset')    \n",
    "\n",
    "\n",
    "# plot formatting\n",
    "ax.set_ylabel(\"Dec [deg]\")\n",
    "ax.set_xlabel(\"RA [deg]\")\n",
    "ax.set_aspect(\"equal\") \n",
    "fig.tight_layout()\n",
    "ax.legend()"
   ]
  },
  {
   "cell_type": "code",
   "execution_count": null,
   "id": "28d69393-9897-4f2b-9d14-7c1572b7ec83",
   "metadata": {},
   "outputs": [],
   "source": []
  },
  {
   "cell_type": "code",
   "execution_count": null,
   "id": "abe45df8-c7ef-4835-9103-74a71839019e",
   "metadata": {},
   "outputs": [],
   "source": []
  }
 ],
 "metadata": {
  "kernelspec": {
   "display_name": "Python [conda env:jwst_inspector]",
   "language": "python",
   "name": "conda-env-jwst_inspector-py"
  },
  "language_info": {
   "codemirror_mode": {
    "name": "ipython",
    "version": 3
   },
   "file_extension": ".py",
   "mimetype": "text/x-python",
   "name": "python",
   "nbconvert_exporter": "python",
   "pygments_lexer": "ipython3",
   "version": "3.9.12"
  }
 },
 "nbformat": 4,
 "nbformat_minor": 5
}
