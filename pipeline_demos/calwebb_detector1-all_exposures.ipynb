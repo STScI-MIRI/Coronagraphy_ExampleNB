{
 "cells": [
  {
   "cell_type": "markdown",
   "id": "2614abda-960a-48e7-97cd-3d240cc9c57e",
   "metadata": {},
   "source": [
    "<a id='top'></a>\n",
    "# calwebb_detector1 run stage\n",
    "---\n",
    "**Author**: Jonathan Aguilar (jaguilar@stsci.edu) | **Latest Update**: 8 Nov 2023"
   ]
  },
  {
   "cell_type": "markdown",
   "id": "cc6e1f8b-43cf-42dd-ad09-96f68f69add4",
   "metadata": {},
   "source": [
    "* [Introduction](#intro)\n",
    "* [Non-pipeline imports](#imports)\n",
    "* [Convenience tools](#convenience_tools)\n",
    "* [Collect uncal files](#file_selection)\n",
    "* [Run Stage 1](#detector1)"
   ]
  },
  {
   "cell_type": "markdown",
   "id": "c4434da5-44e5-477b-9b65-7da71f9f891e",
   "metadata": {},
   "source": [
    "<a id='intro'></a>\n",
    "## Introduction\n",
    "\n",
    "This notebook run the Stage 1 pipeline on all the relevant reference science, PSF and background files for the JWST-ERS-1386 observations of HIP 65426 with the F1550C coronagraph. The relevant observation numbers are:\n",
    "\n",
    "- Science observations: 8, 9\n",
    "- Science backgrounds: 30\n",
    "- Reference observations: 7\n",
    "- Reference backgrounds: 31\n",
    "\n",
    "For more details, especially on how to customize the individual pipeline steps, see `calwebb-detector1-single_exposure.ipynb` as well as the online pipeline documentation and examples:\n",
    "- https://jwst-pipeline.readthedocs.io/en/latest/jwst/pipeline/calwebb_detector1.html#calwebb-detector1\n",
    "- https://github.com/spacetelescope/jwebbinar_prep/blob/main/pipeline_inflight/imaging_mode_stage_1.ipynb\n",
    "\n",
    "Here we will simply be using default parameters, except that the output directory will be set to `./stage1/output/`"
   ]
  },
  {
   "cell_type": "markdown",
   "id": "d020a8b2-954c-4091-b12e-ac4e1e19f5aa",
   "metadata": {},
   "source": [
    "<a id='imports'></a>\n",
    "## Imports"
   ]
  },
  {
   "cell_type": "code",
   "execution_count": null,
   "id": "cb9e99c1-0a74-44b4-a48a-df8ff75a26ba",
   "metadata": {},
   "outputs": [],
   "source": [
    "import os\n",
    "from collections import OrderedDict\n",
    "from pathlib import Path"
   ]
  },
  {
   "cell_type": "code",
   "execution_count": null,
   "id": "f7c204f4-30c2-4785-948f-631a847b8638",
   "metadata": {},
   "outputs": [],
   "source": [
    "import numpy as np"
   ]
  },
  {
   "cell_type": "code",
   "execution_count": null,
   "id": "8db23daf-b763-44c5-8772-2c45c7f2ccd2",
   "metadata": {},
   "outputs": [],
   "source": [
    "import matplotlib as mpl\n",
    "from matplotlib import pyplot as plt\n",
    "from astropy.io import fits"
   ]
  },
  {
   "cell_type": "markdown",
   "id": "f6bd2a7b-066c-4580-9b22-fbf369f2a009",
   "metadata": {},
   "source": [
    "<a id='convenience_tools'></a>\n",
    "## Convenience tools\n",
    "\n",
    "Environment paths and functions that make life easier."
   ]
  },
  {
   "cell_type": "markdown",
   "id": "f204666d-5998-4347-9909-513f2de18aa4",
   "metadata": {},
   "source": [
    "First, set up a local CRDS directory. When the pipeline pulls a reference file from CRDS for the first time, it will write a copy to this directory. All subsequent reads of the reference file will redirect to the local directory instead of sending the file again over the network.\n",
    "\n",
    "See https://jwst-pipeline.readthedocs.io/en/latest/jwst/user_documentation/reference_files_crds.html#crds"
   ]
  },
  {
   "cell_type": "code",
   "execution_count": null,
   "id": "e8520fc8-21a4-44ba-9a17-61b867d060a4",
   "metadata": {},
   "outputs": [],
   "source": [
    "os.environ['CRDS_PATH'] = '/Volumes/agdisk/crds/'\n",
    "# os.environ['CRDS_PATH'] = ''\n",
    "os.environ['CRDS_SERVER_URL'] = 'https://jwst-crds.stsci.edu'"
   ]
  },
  {
   "cell_type": "markdown",
   "id": "026d1301-f083-48cb-8100-558cca0df1c5",
   "metadata": {},
   "source": [
    "Advanced users - uncomment the cell below and specify the context if you have a specific combination of reference files you want to use"
   ]
  },
  {
   "cell_type": "code",
   "execution_count": null,
   "id": "fcf6ea1e-cf61-4a93-a2d2-dab17117c911",
   "metadata": {},
   "outputs": [],
   "source": [
    "# os.environ['CRDS_CONTEXT'] = 'jwst_1140.pmap'"
   ]
  },
  {
   "cell_type": "code",
   "execution_count": null,
   "id": "ce4c701d-f344-4513-8cd9-651246a07992",
   "metadata": {},
   "outputs": [],
   "source": [
    "# some plot formatting\n",
    "mpl.rcParams['image.origin'] = \"lower\""
   ]
  },
  {
   "cell_type": "code",
   "execution_count": null,
   "id": "3de9e3c5-0632-4a1c-97ae-c4c39a754754",
   "metadata": {},
   "outputs": [],
   "source": [
    "# you may need to run this command twice for plots to pop up correctly\n",
    "# %matplotlib auto\n",
    "%matplotlib inline"
   ]
  },
  {
   "cell_type": "code",
   "execution_count": null,
   "id": "d94b8782-5e6c-44a5-bc9e-93520c61453d",
   "metadata": {},
   "outputs": [],
   "source": [
    "# this helper function to map out a particular DQ flag will be useful\n",
    "# DQ flags can be found here: \n",
    "# https://jwst.readthedocs.io/en/latest/jwst/references_general/references_general.html#data-quality-flags\n",
    "def get_dq_flag(flag, dq_img):\n",
    "    \"\"\"return the pixels that have a given DQ flag\"\"\"\n",
    "    bad_bitvalue = dqflags.pixel[flag]\n",
    "    flags = np.bitwise_and(dq_img, bad_bitvalue).astype(bool)\n",
    "    return flags"
   ]
  },
  {
   "cell_type": "markdown",
   "id": "c100c225-7f69-40ea-8949-8f8bee5fd4d9",
   "metadata": {},
   "source": [
    "<a id=\"file_selection\"></a>\n",
    "## Collect uncal files\n",
    "\n",
    "The cell below will access MAST to retrieve the relevant exposures from Observations 4, 5, 6, 28, and 29 of the High-contrast ERS program, PID 1386. \n",
    "\n",
    "If you would like to use different exposures, please replace the `filenames` variable with a list of paths to those files."
   ]
  },
  {
   "cell_type": "code",
   "execution_count": null,
   "id": "9f345d66-285a-43fb-8d19-a8f6772b04eb",
   "metadata": {},
   "outputs": [],
   "source": [
    "filenames = [\n",
    "    'jw01386008001_04101_00001_mirimage_uncal.fits',  # Science target, roll 1\n",
    "    'jw01386009001_04101_00001_mirimage_uncal.fits',  # Science target, roll 2\n",
    "    'jw01386007001_04101_00001_mirimage_uncal.fits',  # PSF reference star observations\n",
    "    'jw01386007001_04101_00002_mirimage_uncal.fits',\n",
    "    'jw01386007001_04101_00003_mirimage_uncal.fits',\n",
    "    'jw01386007001_04101_00004_mirimage_uncal.fits',\n",
    "    'jw01386007001_04101_00005_mirimage_uncal.fits',\n",
    "    'jw01386007001_04101_00006_mirimage_uncal.fits',\n",
    "    'jw01386007001_04101_00007_mirimage_uncal.fits',\n",
    "    'jw01386007001_04101_00008_mirimage_uncal.fits',\n",
    "    'jw01386007001_04101_00009_mirimage_uncal.fits',\n",
    "    'jw01386030001_02101_00001_mirimage_uncal.fits',  # Science backgrounds\n",
    "    'jw01386030001_03101_00001_mirimage_uncal.fits',\n",
    "    'jw01386031001_02101_00001_mirimage_uncal.fits',  # PSF reference star backgrounds\n",
    "    'jw01386031001_03101_00001_mirimage_uncal.fits',\n",
    "]\n",
    "from astroquery.mast import Observations\n",
    "for filename in filenames:\n",
    "    Observations.download_file(f\"mast:JWST/product/{filename}\", local_path= f\"./uncal/{filename}\")\n",
    "uncal_file = f\"./uncal/{filenames[0]}\""
   ]
  },
  {
   "cell_type": "markdown",
   "id": "0b4b0423-6cc4-4158-a424-e27581161a3d",
   "metadata": {},
   "source": [
    "Let's do a quick inspection of one of the files"
   ]
  },
  {
   "cell_type": "code",
   "execution_count": null,
   "id": "ea8eba88-29f8-437d-a7b4-d80b3bd94380",
   "metadata": {},
   "outputs": [],
   "source": [
    "# print some basic information\n",
    "fits.info(uncal_file)"
   ]
  },
  {
   "cell_type": "code",
   "execution_count": null,
   "id": "06dd0da8-8c38-4086-899c-5cca552a0c96",
   "metadata": {},
   "outputs": [],
   "source": [
    "# a simple plot\n",
    "fig, ax = plt.subplots(1, 1)\n",
    "img = np.nanmean(fits.getdata(uncal_file, 1), axis=(0, 1))\n",
    "imlims = dict(zip(['vmin', 'vmax'], np.nanquantile(img, [0.1, 0.9])))\n",
    "ax.imshow(img, **imlims, origin='lower')"
   ]
  },
  {
   "cell_type": "markdown",
   "id": "effe6259-082a-46fe-a6b9-f124784551ad",
   "metadata": {},
   "source": [
    "<a id='detector1'></a>\n",
    "\n",
    "## Run calwebb_detector1 on each file\n",
    "\n",
    "The command `Detector1Pipeline().get_pars()` will return a dictionary listing all the available parameters and their default values.\n",
    "\n",
    "This dictionary can be modified and then used with the commend `Detector1Pipeline.call(filename, **parameter_dict)`."
   ]
  },
  {
   "cell_type": "code",
   "execution_count": null,
   "id": "563c2e6e-ce14-45f1-974a-7be20a40c98d",
   "metadata": {},
   "outputs": [],
   "source": [
    "import jwst\n",
    "jwst.__version__"
   ]
  },
  {
   "cell_type": "code",
   "execution_count": null,
   "id": "dcdc039a-2728-4a1f-bf36-5ab6dd7778af",
   "metadata": {},
   "outputs": [],
   "source": [
    "from jwst.pipeline import Detector1Pipeline"
   ]
  },
  {
   "cell_type": "code",
   "execution_count": null,
   "id": "b57c478c-060c-4cd1-bfa0-0e70cb7a75e4",
   "metadata": {
    "scrolled": true,
    "tags": []
   },
   "outputs": [],
   "source": [
    "for i, f in enumerate(filenames):\n",
    "    # run det1\n",
    "    print(\"\\n\\n\\n\", i+1, len(filenames), \"\\n\\n\\n\")\n",
    "    filename = str(Path(\"uncal\") / f)\n",
    "    output_dir = \"stage1/output/\"\n",
    "    res1 = Detector1Pipeline.call(\n",
    "        filename,\n",
    "        output_dir=output_dir,\n",
    "        save_results=True\n",
    "        steps={\n",
    "            'jump': {'maximum_cores': 'half'},\n",
    "            'ramp_fit': {'maximum_cores': 'half'}\n",
    "        }\n",
    "    )"
   ]
  },
  {
   "cell_type": "markdown",
   "id": "c57b11e3-1e9f-4657-806b-74c322d7247c",
   "metadata": {},
   "source": [
    "The results are stored in `./stage1/output/`."
   ]
  },
  {
   "cell_type": "code",
   "execution_count": null,
   "id": "68544f4c-b99a-4e6f-b27d-c250663824d8",
   "metadata": {},
   "outputs": [],
   "source": []
  }
 ],
 "metadata": {
  "kernelspec": {
   "display_name": "Python [conda env:jwst_inspector]",
   "language": "python",
   "name": "conda-env-jwst_inspector-py"
  },
  "language_info": {
   "codemirror_mode": {
    "name": "ipython",
    "version": 3
   },
   "file_extension": ".py",
   "mimetype": "text/x-python",
   "name": "python",
   "nbconvert_exporter": "python",
   "pygments_lexer": "ipython3",
   "version": "3.9.12"
  }
 },
 "nbformat": 4,
 "nbformat_minor": 5
}
