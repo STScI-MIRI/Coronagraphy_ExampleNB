{
 "cells": [
  {
   "cell_type": "markdown",
   "id": "2614abda-960a-48e7-97cd-3d240cc9c57e",
   "metadata": {},
   "source": [
    "<a id='top'></a>\n",
    "# calwebb_detector2 step-by-step notebook\n",
    "---\n",
    "For running on a single file\n",
    "\n",
    "**Author**: Jonathan Aguilar (jaguilar@stsci.edu) | **Latest Update**: 23 Oct 2023"
   ]
  },
  {
   "cell_type": "markdown",
   "id": "cc6e1f8b-43cf-42dd-ad09-96f68f69add4",
   "metadata": {},
   "source": [
    "* [Introduction](#intro)\n",
    "* [Pipeline Resources and Documentation](#resources)\n",
    "* [Imports](#imports)\n",
    "* [Convenience tools](#convenience_tools)\n",
    "* [File selection](#file_selection)\n",
    "* [Run the individual pipeline steps](#image2_step_by_step)\n",
    "   * [Import the pipeline steps](#import_pipeline)\n",
    "   * [The `Background Subtraction` step](#bkg_subtract)\n",
    "   * [The `Assign WCS` step](#assign_wcs)\n",
    "   * [The `Flat Fielding` step](#flatfield)\n",
    "   * [The `Photometric Scaling` step](#photom)\n",
    "   * [The `Resampling` step](#resample)\n",
    "   * [Saving to cal/calints](#close_out)"
   ]
  },
  {
   "cell_type": "markdown",
   "id": "c4434da5-44e5-477b-9b65-7da71f9f891e",
   "metadata": {},
   "source": [
    "<a id='intro'></a>\n",
    "## Introduction\n",
    "\n",
    "The Stage 2 JWST pipeline for coronagraphy takes a `rateints` pipeline product as input, and performs the operations necessary to convert the units of the pixel counts into `MJy/sr`. These include:\n",
    "- background subtraction, to remove background flux\n",
    "- WCS assignment, to transform between pixel and sky coordinates\n",
    "- flat fielding, to normalize pixel sensitivities\n",
    "- photometric calibration, to scale DN/s to MJy/sr\n",
    "\n",
    "The input `rateints` dataproduct consists of a 3-D slope cube that has units of DN/s, where DN stands for Data Number, a unit used to label uncalibrated counts coming from the detector readout electronics.\n",
    "\n",
    "This notebook breaks the calwebb_image2 (also called Image2Pipeline) pipeline class into steps, runs each step independently, and examines the output. It demonstrates how to change step-specific parameters at the step level. Much of the material, especially the documentation, is based on the example notebook found [here](https://github.com/spacetelescope/jwebbinar_prep/blob/main/pipeline_inflight/imaging_mode_stage_2.ipynb), written by Bryan Hilbert. Materials and videos can be found [here](https://www.stsci.edu/jwst/science-execution/jwebbinars) under JWebbinar 18. Here, it has been tailored to the specific case of MIRI coronagraphy.\n",
    "\n",
    "Since this notebook focuses on running a single file through the pipeline, it skips the background subtraction step, which requires background exposures. For examples that include background subtraction, please see the following notebooks:"
   ]
  },
  {
   "cell_type": "markdown",
   "id": "6ea992ce-5505-4fc0-acc2-7a836970e242",
   "metadata": {},
   "source": [
    "<a id='resources'></a>\n",
    "## Pipeline resources and documentation\n",
    "\n",
    "Documentation on `calwebb_image2` and the steps run on MIRI coronagraphy data specifically can be found here: https://jwst-pipeline.readthedocs.io/en/latest/jwst/pipeline/calwebb_image2.html\n",
    "\n",
    "We also refer the user to the Imaging example notebook: https://github.com/spacetelescope/jwebbinar_prep/blob/main/pipeline_inflight/imaging_mode_stage_2.ipynb. This contains a wealth of information that has been omitted here for brevity.\n",
    "\n",
    "\n"
   ]
  },
  {
   "cell_type": "markdown",
   "id": "d020a8b2-954c-4091-b12e-ac4e1e19f5aa",
   "metadata": {},
   "source": [
    "<a id='imports'></a>\n",
    "## Non-pipeline imports"
   ]
  },
  {
   "cell_type": "code",
   "execution_count": null,
   "id": "cb9e99c1-0a74-44b4-a48a-df8ff75a26ba",
   "metadata": {},
   "outputs": [],
   "source": [
    "import os\n",
    "from collections import OrderedDict\n",
    "from pathlib import Path"
   ]
  },
  {
   "cell_type": "code",
   "execution_count": null,
   "id": "f7c204f4-30c2-4785-948f-631a847b8638",
   "metadata": {},
   "outputs": [],
   "source": [
    "import numpy as np"
   ]
  },
  {
   "cell_type": "code",
   "execution_count": null,
   "id": "8db23daf-b763-44c5-8772-2c45c7f2ccd2",
   "metadata": {},
   "outputs": [],
   "source": [
    "import matplotlib as mpl\n",
    "from matplotlib import pyplot as plt\n",
    "from astropy.io import fits"
   ]
  },
  {
   "cell_type": "markdown",
   "id": "db9eedad-0f89-4774-839a-a63e7fe06186",
   "metadata": {},
   "source": [
    "<a id='convenience_tools'></a>\n",
    "## Convenience tools\n",
    "\n",
    "Environment paths and functions that make life easier."
   ]
  },
  {
   "cell_type": "markdown",
   "id": "10e0f460-59b8-4070-9358-a34739243879",
   "metadata": {},
   "source": [
    "First, set up a local CRDS directory. When the pipeline pulls a reference file from CRDS for the first time, it will write a copy to this directory. All subsequent reads of the reference file will redirect to the local directory instead of sending the file again over the network.\n",
    "\n",
    "See https://jwst-pipeline.readthedocs.io/en/latest/jwst/user_documentation/reference_files_crds.html#crds"
   ]
  },
  {
   "cell_type": "code",
   "execution_count": null,
   "id": "e8520fc8-21a4-44ba-9a17-61b867d060a4",
   "metadata": {},
   "outputs": [],
   "source": [
    "os.environ['CRDS_PATH'] = '/Volumes/agdisk/crds/'\n",
    "# os.environ['CRDS_PATH'] = ''\n",
    "os.environ['CRDS_SERVER_URL'] = 'https://jwst-crds.stsci.edu'"
   ]
  },
  {
   "cell_type": "markdown",
   "id": "026d1301-f083-48cb-8100-558cca0df1c5",
   "metadata": {},
   "source": [
    "Advanced users - uncomment the cell below and specify the context if you have a specific combination of reference files you want to use"
   ]
  },
  {
   "cell_type": "code",
   "execution_count": null,
   "id": "fcf6ea1e-cf61-4a93-a2d2-dab17117c911",
   "metadata": {},
   "outputs": [],
   "source": [
    "# os.environ['CRDS_CONTEXT'] = 'jwst_1140.pmap'"
   ]
  },
  {
   "cell_type": "code",
   "execution_count": null,
   "id": "ce4c701d-f344-4513-8cd9-651246a07992",
   "metadata": {},
   "outputs": [],
   "source": [
    "# some plot formatting\n",
    "mpl.rcParams['image.origin'] = \"lower\""
   ]
  },
  {
   "cell_type": "code",
   "execution_count": null,
   "id": "3de9e3c5-0632-4a1c-97ae-c4c39a754754",
   "metadata": {},
   "outputs": [],
   "source": [
    "# you may need to run this command twice for plots to pop up correctly\n",
    "# %matplotlib auto\n",
    "%matplotlib inline"
   ]
  },
  {
   "cell_type": "markdown",
   "id": "c100c225-7f69-40ea-8949-8f8bee5fd4d9",
   "metadata": {},
   "source": [
    "<a id=\"file_selection\"></a>\n",
    "## Collect Stage 1 product\n",
    "\n",
    "By default, this notebook uses one of the results of the `calwebb_detector1-all_exposures.ipynb` notebook. If you wish to use a file on your own system, please replace the `rate_file` path in the cell below. \n",
    "\n",
    "If you have not run the Stage 1 notebook but you would still like to use this specific exposure as an example, you can retrieve it directly from MAST with the code snippet below.\n",
    "\n",
    "<div class=\"alert alert-block alert-info\">\n",
    "Snippet for downloading Stage 1 ERS-1386 data:\n",
    "\n",
    "```\n",
    "from astroquery.mast import Observations\n",
    "filename = \"jw01386007001_04101_00001_mirimage_rateints.fits\"\n",
    "Observations.download_file(f\"mast:JWST/product/{filename}\", local_path= f\"./stage1/input/{filename}\")\n",
    "rate_file = f\"./stage1/input/{filename}\"\n",
    "```\n",
    "    \n",
    "</div>"
   ]
  },
  {
   "cell_type": "code",
   "execution_count": null,
   "id": "9f345d66-285a-43fb-8d19-a8f6772b04eb",
   "metadata": {},
   "outputs": [],
   "source": [
    "rate_file = \"stage1/output/jw01386007001_04101_00001_mirimage_rateints.fits\""
   ]
  },
  {
   "cell_type": "markdown",
   "id": "0b4b0423-6cc4-4158-a424-e27581161a3d",
   "metadata": {},
   "source": [
    "Let's do a quick inspection of the file"
   ]
  },
  {
   "cell_type": "code",
   "execution_count": null,
   "id": "ea8eba88-29f8-437d-a7b4-d80b3bd94380",
   "metadata": {},
   "outputs": [],
   "source": [
    "# print some basic information\n",
    "fits.info(rate_file)"
   ]
  },
  {
   "cell_type": "code",
   "execution_count": null,
   "id": "06dd0da8-8c38-4086-899c-5cca552a0c96",
   "metadata": {},
   "outputs": [],
   "source": [
    "# a simple plot\n",
    "fig, ax = plt.subplots(1, 1)\n",
    "img = np.nanmean(fits.getdata(rate_file, 1), axis=0)\n",
    "imlims = dict(zip(['vmin', 'vmax'], np.nanquantile(img, [0.01, 0.99])))\n",
    "ax.imshow(img, **imlims, origin='lower')"
   ]
  },
  {
   "cell_type": "markdown",
   "id": "effe6259-082a-46fe-a6b9-f124784551ad",
   "metadata": {},
   "source": [
    "<a id='image2_step_by_step'></a>\n",
    "## Run each step of calwebb_image2\n",
    "\n",
    "We're going to save the output of each step separately, so the code below generates an output folder for each step. We will be running only the steps that are relevant to the MIRI coronagraphy pipeline. All the provided parameter values are the default values."
   ]
  },
  {
   "cell_type": "markdown",
   "id": "53e6ce8e-2d57-44ec-b0de-c783ba6870b6",
   "metadata": {},
   "source": [
    "The steps, in order of execution, are:\n",
    "- `bkg_subtract`\n",
    "    - performs background subtraction\n",
    "    - takes as input a datamodel and an optional list of background exposure filenames\n",
    "    - returns datamodel with the backgorund exposures subtracted\n",
    "    - step-specific arguments:\n",
    "        - `sigma float [3.0]`: std for sigma-clipping\n",
    "        - `maxiters int [None]`: number of clipping iterations to perform when combining multiple background images\n",
    "        - `save_combined_background bool [False]`: save the master background, or no\n",
    "        - `wfss_mmag_extract tuple [None]`: only for WFSS exposures; sets min mag for extracting sources\n",
    "- `assign_wcs`\n",
    "    - associates a WCS object with each the exposure\n",
    "    - keywords used: RA_REF, DEC_REF, V2_REF, V3_REF, ROLL_REF, RADESYS\n",
    "    - no step-specific arguments    \n",
    "    - reference files used:\n",
    "        - DISTORTION\n",
    "        - FILTEROFFSET\n",
    " \n",
    "- `flat_field`\n",
    "    - multiplies by a flat field reference image to mitigate pixel-to-pixel sensitivity differences\n",
    "    - step-specific arguments:\n",
    "        - `save_interpolated_flat bool [False]`: only for NIRSpec; save the flat-field that was constructed on the fly\n",
    "        - `user_supplied_flat str [None`: path to a user-supplied flat-field image to use\n",
    "        - `inverse bool [False]`: multiply isntead of divide\n",
    "    - reference files used:\n",
    "        - FLAT\n",
    "        \n",
    "- `photom`\n",
    "    - scales the data by a conversion factor between units of countrate to units of surface brightness \n",
    "    - step-specific arguments:\n",
    "        - `inverse bool [False]`: divide instead of multiply\n",
    "        - `source_type str [None]`: force processing for POINT or EXTENDED sources\n",
    "        - `mrs_time_correction bool [True]`: turn on or off time-dependent correction for MRS sensitivity decay\n",
    "    - reference files used:\n",
    "        - PHOTOM"
   ]
  },
  {
   "cell_type": "markdown",
   "id": "2912153d-1497-4233-ad28-0ffc9fb974dc",
   "metadata": {},
   "source": [
    "<a id='import_pipeline'></a>\n",
    "### Import the pipeline steps"
   ]
  },
  {
   "cell_type": "code",
   "execution_count": null,
   "id": "5545a310-bc84-4d5b-884d-9194044363d2",
   "metadata": {},
   "outputs": [],
   "source": [
    "import jwst\n",
    "jwst.__version__"
   ]
  },
  {
   "cell_type": "code",
   "execution_count": null,
   "id": "0d60faa2-9737-4ec0-9e98-7486486db7d4",
   "metadata": {},
   "outputs": [],
   "source": [
    "from jwst import datamodels\n",
    "from jwst.datamodels import dqflags"
   ]
  },
  {
   "cell_type": "code",
   "execution_count": null,
   "id": "4a52fc08-15f9-4cb0-8188-67071ac5c264",
   "metadata": {},
   "outputs": [],
   "source": [
    "from jwst.pipeline import Image2Pipeline\n",
    "from jwst.background import BackgroundStep\n",
    "from jwst.assign_wcs import AssignWcsStep \n",
    "from jwst.flatfield import FlatFieldStep\n",
    "from jwst.photom import PhotomStep\n",
    "from jwst.resample import ResampleStep"
   ]
  },
  {
   "cell_type": "markdown",
   "id": "bc9b453a-3764-443a-b215-caec6bfc2812",
   "metadata": {},
   "source": [
    "We're going to write out the results of each step to disk, and also keep a copy in memory in the `results` dict generated in the cell below."
   ]
  },
  {
   "cell_type": "code",
   "execution_count": null,
   "id": "86729fe6-a0e9-4f41-a4dc-6cd32cac88dd",
   "metadata": {},
   "outputs": [],
   "source": [
    "# Create a dictionary for storing the intermediate results.\n",
    "\n",
    "# The get_pars() method returns a dictionary of allowed parameters for the pipeline stage, including\n",
    "# a dictionary of parameters for each step. We will use this dictionary to get a list of steps that will\n",
    "# index our results dictionary.\n",
    "results = OrderedDict([(step, None) for step in Image2Pipeline().get_pars()['steps'].keys()])"
   ]
  },
  {
   "cell_type": "code",
   "execution_count": null,
   "id": "13e5b57d-3953-4179-b033-246cbec38a49",
   "metadata": {},
   "outputs": [],
   "source": [
    "print(\"Here is a list of the different steps:\")\n",
    "for step in results.keys():\n",
    "    print(\"\\t\" + step)"
   ]
  },
  {
   "cell_type": "markdown",
   "id": "bb256a2f-b878-4761-ab77-cfb3c21a1426",
   "metadata": {},
   "source": [
    "Generate the output folders specific to this notebook\n",
    "\n",
    "For this notebook, each step gets its own output folder: `stage2/output-steps//{step_name}`"
   ]
  },
  {
   "cell_type": "code",
   "execution_count": null,
   "id": "fa9fb0d0-498f-4bcd-83dd-bc3acfc28aaa",
   "metadata": {},
   "outputs": [],
   "source": [
    "for k in results.keys():\n",
    "    p = Path(f\"./stage2/output-steps//{k}\")\n",
    "    if not p.exists():\n",
    "        p.mkdir(parents=True)\n",
    "        print(str(p.resolve()), \"made\")\n",
    "    else:\n",
    "        print(f\"{str(p)} found\")"
   ]
  },
  {
   "cell_type": "markdown",
   "id": "feb7102b-cde7-4111-9f59-545dff2edd8e",
   "metadata": {},
   "source": [
    "ASDF datamodels are the native data format used by the pipeline, so we're going to use them here"
   ]
  },
  {
   "cell_type": "code",
   "execution_count": null,
   "id": "ed515a3d-610a-492a-b51c-4cdebbf2611e",
   "metadata": {},
   "outputs": [],
   "source": [
    "init_dm = datamodels.open(rate_file)"
   ]
  },
  {
   "cell_type": "markdown",
   "id": "b3b6e436-c505-47aa-9d7e-0067669722a1",
   "metadata": {},
   "source": [
    "Add the starting data to the results dict"
   ]
  },
  {
   "cell_type": "code",
   "execution_count": null,
   "id": "ee400a6a-28c6-4f3e-b4c0-9bb540b5ed09",
   "metadata": {},
   "outputs": [],
   "source": [
    "results['init'] = init_dm"
   ]
  },
  {
   "cell_type": "markdown",
   "id": "87b187df-15da-4ec6-a0a0-50255f5837b2",
   "metadata": {},
   "source": [
    "<a id='bkg_subtract'></a>\n",
    "## Background subtraction\n",
    "\n",
    "<div class=\"alert alert-block alert-info\">\n",
    "Note: for this notebook, where we explicitly choose to not combine multiple exposures, we skip the background subtraction step. The final data products from this notebook will have visible glowsticks.\n",
    "</div>\n",
    "\n",
    "https://jwst-pipeline.readthedocs.io/en/latest/jwst/background_step/index.html#background-step\n",
    "\n",
    "The background subtraction step performs image-from-image subtraction in order to accomplish subtraction of background signal. The step takes as input one target exposure, to which the subtraction will be applied, and a list of one or more background exposures.\n",
    "\n",
    "There are 4 optional arguments:\n",
    "- sigma: std for sigma-clipping\n",
    "- maxiters: number of clipping iterations to perform when combining multiple background images\n",
    "- save_combined_background: save the master background, or no\n",
    "- wfss_mmag_extract: only for WFSS exposures; sets min mag for extracting sources"
   ]
  },
  {
   "cell_type": "code",
   "execution_count": null,
   "id": "453e876c-dcbb-4ff4-9ab9-4a0d2de39b5e",
   "metadata": {},
   "outputs": [],
   "source": [
    "output_dir = Path(f\"stage2/output-steps//background\")"
   ]
  },
  {
   "cell_type": "code",
   "execution_count": null,
   "id": "738d38f9-2309-4918-bd0c-68032a23e13b",
   "metadata": {},
   "outputs": [],
   "source": [
    "results['bkg_subtract'] = BackgroundStep.call(\n",
    "    results['init'],\n",
    "    # common\n",
    "    save_results=True, \n",
    "    output_dir=str(output_dir),\n",
    "    # For this case, we are going to skip it.\n",
    "    skip=True\n",
    ")"
   ]
  },
  {
   "cell_type": "markdown",
   "id": "e4643089-1de2-4da6-b935-1d2acc7e1066",
   "metadata": {},
   "source": [
    "<a id='assign_wcs'></a>\n",
    "## Assign WCS\n",
    "\n",
    "https://jwst-pipeline.readthedocs.io/en/latest/jwst/assign_wcs/index.html#assign-wcs-step\n",
    "\n",
    "This step associates a WCS object with each science exposure. The WCS object transforms positions in the detector frame to positions in a world coordinate frame - ICRS and wavelength.\n",
    "\n",
    "There are no step-specific optional arguments for AssignWCS."
   ]
  },
  {
   "cell_type": "code",
   "execution_count": null,
   "id": "7f0a7bb1-2abf-4d70-b9d5-23656998a9fb",
   "metadata": {},
   "outputs": [],
   "source": [
    "output_dir = \"stage2/output-steps//assign_wcs\"\n",
    "\n",
    "results['assign_wcs'] = AssignWcsStep.call(\n",
    "    results[\"bkg_subtract\"],\n",
    "    # common\n",
    "    save_results=True, \n",
    "    output_dir=str(output_dir),\n",
    "    # step-specific - None\n",
    ")\n",
    "    "
   ]
  },
  {
   "cell_type": "code",
   "execution_count": null,
   "id": "77592452-bc43-444d-ad91-f158165d494c",
   "metadata": {},
   "outputs": [],
   "source": [
    "dm = results['assign_wcs']"
   ]
  },
  {
   "cell_type": "code",
   "execution_count": null,
   "id": "c0d19ee1-94a8-4395-a0bf-c467ccc14fa3",
   "metadata": {},
   "outputs": [],
   "source": [
    "fig, ax = plt.subplots(1, 1, subplot_kw={'projection': dm.meta.wcs})\n",
    "img = np.nanmean(dm.data, axis=0)\n",
    "imlims = dict(zip(['vmin', 'vmax'], np.nanquantile(img, [0.01, 0.99])))\n",
    "ax.imshow(img, **imlims, origin='lower')\n",
    "\n",
    "overlay = ax.get_coords_overlay('icrs')\n",
    "overlay.grid(color='white', ls='dotted')\n",
    "overlay[0].set_axislabel('Right Ascension (J2000)')\n",
    "overlay[1].set_axislabel('Declination (J2000)')"
   ]
  },
  {
   "cell_type": "markdown",
   "id": "ba3712d6-d1c1-433e-a1da-f510bc3edf35",
   "metadata": {},
   "source": [
    "<a id='flatfield'></a>\n",
    "## Flat Fielding\n",
    "\n",
    "https://jwst-pipeline.readthedocs.io/en/latest/jwst/flatfield/index.html#flatfield-step\n",
    "\n",
    "At its basic level this step flat-fields an input science dataset by dividing by a flat-field reference image. \n",
    "\n",
    "Step-specfic arguments:\n",
    "\n",
    "- save_interpolated_flat (boolean, default=False)\n",
    "    - A flag to indicate whether to save to a file the NIRSpec flat field that was constructed on-the-fly by the step. Only relevant for NIRSpec data.\n",
    "- user_supplied_flat (string, default=None)\n",
    "    - The name of a user-supplied flat-field reference file.\n",
    "- inverse (boolean, default=False)\n",
    "    - indicate whether the math operations used to apply the flat-field should be inverted (i.e. multiply instead of divide).\n",
    "    \n",
    "<div class=\"alert alert-block alert-info\">\n",
    "    Note: The discovery of the stray light \"glowstick\" anomaly impacting the coronagraphs has made it challenging to derive a proper in-flight flat field reference file, since the stray light is an additive effect. The current flat field reference files were derived pre-flight. For this reason, they appear to *add* the glowsticks, especially in the 1065 and 1140 coronagraphs, but this is only a result of the decreased sensitivity along the quadrant boundaries.\n",
    "</div>"
   ]
  },
  {
   "cell_type": "code",
   "execution_count": null,
   "id": "38d6e100-e76f-44a9-a58b-3873caa6430c",
   "metadata": {},
   "outputs": [],
   "source": [
    "output_dir = \"stage2/output-steps/flat_field\"\n",
    "\n",
    "results['flat_field'] = FlatFieldStep.call(\n",
    "    results['assign_wcs'],\n",
    "    # common\n",
    "    save_results=True, output_dir=str(output_dir),\n",
    "    # step-specific\n",
    "    save_interpolated_flat = False,\n",
    "    user_supplied_flat = None,\n",
    "    inverse = False    \n",
    ")"
   ]
  },
  {
   "cell_type": "code",
   "execution_count": null,
   "id": "eaa5438a-2881-46d6-a311-8f93fdb6b233",
   "metadata": {},
   "outputs": [],
   "source": [
    "nrows, ncols = 1, 3\n",
    "\n",
    "fig, axes = plt.subplots(nrows=nrows, ncols=ncols, figsize=(6*ncols, 6*nrows))\n",
    "fig.suptitle(\"Flat-fielding\")\n",
    "\n",
    "before_img = np.nanmean(results['assign_wcs'].data, axis=0)\n",
    "after_img = np.nanmean(results['flat_field'].data, axis=0)\n",
    "vmin, vmax = np.nanquantile([before_img, after_img], [0.01, 0.99])\n",
    "\n",
    "\n",
    "ax = axes.flat[0]\n",
    "ax.set_title(\"Before\")\n",
    "ax.imshow(before_img, vmin=vmin, vmax=vmax)\n",
    "\n",
    "ax = axes.flat[1]\n",
    "ax.set_title(\"After\")\n",
    "imax = ax.imshow(after_img, vmin=vmin, vmax=vmax)\n",
    "\n",
    "ax = axes.flat[2]\n",
    "ax.set_title(\"Flat field (reconstructed)\")\n",
    "imax = ax.imshow(before_img/after_img)"
   ]
  },
  {
   "cell_type": "markdown",
   "id": "324e3808-3e68-4b57-9a54-fe9c8f958169",
   "metadata": {},
   "source": [
    "## photom\n",
    "\n",
    "https://jwst-pipeline.readthedocs.io/en/latest/jwst/photom/index.html#photom-step\n",
    "\n",
    "The photom step applies flux (photometric) calibrations to a data product to convert the data from units of countrate to surface brightness (or, in some cases described below, to units of flux density)\n",
    "\n",
    "Step-specfic arguments:\n",
    "\n",
    "- inverse (boolean, default=False)\n",
    "    - A flag to indicate whether the math operations used to apply the correction should be inverted (i.e. divide the calibration data into the science data, instead of the usual multiplication).\n",
    "\n",
    "- source_type (string, default=None)\n",
    "    - Force the processing to use the given source type (POINT, EXTENDED), instead of using the information contained in the input data.\n",
    "\n",
    "- mrs_time_correction (boolean, default=True)\n",
    "    - A flag to indicate whether to turn on the time and wavelength dependent correction for MIRI MRS data.\n",
    "    "
   ]
  },
  {
   "cell_type": "code",
   "execution_count": null,
   "id": "bce08a8a-7344-450f-920c-861e5a2135f7",
   "metadata": {},
   "outputs": [],
   "source": [
    "output_dir = \"stage2/output-steps//photom\"\n",
    "\n",
    "results['photom'] = PhotomStep.call(\n",
    "    results['flat_field'],\n",
    "    # common\n",
    "    save_results=True, output_dir=str(output_dir),\n",
    "    # step-specific\n",
    ")\n",
    "    "
   ]
  },
  {
   "cell_type": "markdown",
   "id": "27e448f7-6b94-4897-8458-66f327ca7676",
   "metadata": {},
   "source": [
    "The ratio between the before and after images should look like the flat field reference file"
   ]
  },
  {
   "cell_type": "code",
   "execution_count": null,
   "id": "ea90f51a-f3c6-4163-86a1-73e05ebc903e",
   "metadata": {},
   "outputs": [],
   "source": [
    "nrows, ncols = 1, 2\n",
    "\n",
    "fig, axes = plt.subplots(nrows=nrows, ncols=ncols, figsize=(6*ncols, 6*nrows))\n",
    "fig.suptitle(\"Photometric calibration\\nsame numerical scale, different units\")\n",
    "\n",
    "before_img = np.nanmean(results['flat_field'].data, axis=0)\n",
    "after_img = np.nanmean(results['photom'].data, axis=0)\n",
    "vmin, vmax = np.nanquantile([after_img, before_img], [0.01, 0.99])\n",
    "\n",
    "ax = axes[0]\n",
    "ax.set_title(\"Before\")\n",
    "imax = ax.imshow(before_img, vmin=vmin, vmax=vmax)\n",
    "cbar = fig.colorbar(imax, ax=ax, orientation='horizontal')\n",
    "cbar.set_label(results['flat_field'].meta.bunit_data)\n",
    "\n",
    "ax = axes[1]\n",
    "ax.set_title(\"After\")\n",
    "imax = ax.imshow(after_img, vmin=vmin, vmax=vmax)\n",
    "cbar = fig.colorbar(imax, ax=ax, orientation='horizontal')\n",
    "cbar.set_label(results['photom'].meta.bunit_data)"
   ]
  },
  {
   "cell_type": "markdown",
   "id": "281a51b7-77dd-49f7-bc00-1283ddc2b287",
   "metadata": {},
   "source": [
    "## resample\n",
    "\n",
    "<div class=\"alert alert-block alert-info\">\n",
    "    Resampling is not run on coronagraphic Stage 2 dataproducts. Is only run on 2-D images. If you wish to see the results of `resample`, you may run this notebook starting from the `rate.fits` Stage 1 data product instead of `rateints.fits`, and set `skip=False`.\n",
    "    The Stage 2 `resample` step is only for user inspection. It outputs an \"_i2d.fits\" file that is not passed to the Stage 3 pipeline.\n",
    "</div>\n",
    "\n",
    "https://jwst-pipeline.readthedocs.io/en/latest/jwst/resample/index.html#resample-step\n",
    "\n",
    "This routine will resample each input 2D image based on the WCS and distortion information, and will combine multiple resampled images into a single undistorted product.\n",
    "\n",
    "The resample step has the following optional arguments that control the behavior of the processing and the characteristics of the resampled image.\n",
    "\n",
    "- pixfrac (float, default=1.0)\n",
    "  - The fraction by which input pixels are “shrunk” before being drizzled onto the output image grid, given as a real number between 0 and 1.\n",
    "\n",
    "- kernel (str, default=’square’)\n",
    "  - The form of the kernel function used to distribute flux onto the output image. Available kernels are square, gaussian, point, tophat, turbo, lanczos2, and lanczos3.\n",
    "\n",
    "- pixel_scale_ratio (float, default=1.0)\n",
    "  - Ratio of input to output pixel scale. A value of 0.5 means the output image would have 4 pixels sampling each input pixel. Ignored when pixel_scale or output_wcs are provided.\n",
    "\n",
    "- pixel_scale (float, default=None)\n",
    "  - Absolute pixel scale in arcsec. When provided, overrides pixel_scale_ratio. Ignored when output_wcs is provided.\n",
    "\n",
    "- rotation (float, default=None)\n",
    "  - Position angle of output image’s Y-axis relative to North. A value of 0.0 would orient the final output image to be North up. The default of None specifies that the images will not be rotated, but will instead be resampled in the default orientation for the camera with the x and y axes of the resampled image corresponding approximately to the detector axes. Ignored when pixel_scale or output_wcs are provided.\n",
    "\n",
    "- crpix (tuple of float, default=None)\n",
    "  - Position of the reference pixel in the image array in the x, y order. If crpix is not specified, it will be set to the center of the bounding box of the returned WCS object. When supplied from command line, it should be a comma-separated list of floats. Ignored when output_wcs is provided.\n",
    "\n",
    "- crval (tuple of float, default=None)\n",
    "  - Right ascension and declination of the reference pixel. Automatically computed if not provided. When supplied from command line, it should be a comma-separated list of floats. Ignored when output_wcs is provided.\n",
    "\n",
    "- output_shape (tuple of int, default=None)\n",
    "  - Shape of the image (data array) using “standard” nx first and ny second (as opposite to the numpy.ndarray convention - ny first and nx second). This value will be assigned to pixel_shape and array_shape properties of the returned WCS object. When supplied from command line, it should be a comma-separated list of integers nx, ny."
   ]
  },
  {
   "cell_type": "code",
   "execution_count": null,
   "id": "6a3cddac-7a19-4288-8525-700c391b4993",
   "metadata": {},
   "outputs": [],
   "source": [
    "output_dir = Path(\"output-op/resample/\")"
   ]
  },
  {
   "cell_type": "code",
   "execution_count": null,
   "id": "f3334221-62c1-4fae-9338-72d596160337",
   "metadata": {},
   "outputs": [],
   "source": [
    "try:\n",
    "    results['resample'] = ResampleStep(\n",
    "        results['flat_field'],\n",
    "        # common\n",
    "        save_results = True,\n",
    "        output_dir=str(output_dir),\n",
    "        skip=True,\n",
    "        # step-specific\n",
    "        pixfrac = 1.0,\n",
    "        kernel = 'square',\n",
    "        fillval = 'INDEF',\n",
    "        weight_type = 'ivm',\n",
    "        output_shape = None,\n",
    "        crpix = None,\n",
    "        crval = None,\n",
    "        rotation = None,\n",
    "        pixel_scale_ratio = 1.0,\n",
    "        pixel_scale = None,\n",
    "        output_wcs = '',\n",
    "        single = False,\n",
    "        blendheaders = True,\n",
    "        allowed_memory = None,\n",
    "        in_memory = True\n",
    "    )\n",
    "except TypeError as e:\n",
    "    print(\"The `resample` step needs an ImageModel, not a CubeModel\")\n",
    "    print(f\"Error message:\\n\\t{e}\")"
   ]
  },
  {
   "cell_type": "markdown",
   "id": "1624e255-3131-40d2-803a-c43228f086b2",
   "metadata": {},
   "source": [
    "<a id='close_out'></a>\n",
    "## Close it out\n",
    "\n",
    "Just so that we can end up with the proper *rate{ints}.fits* filenames"
   ]
  },
  {
   "cell_type": "code",
   "execution_count": null,
   "id": "79f293a8-3a81-46c4-b193-71a564664069",
   "metadata": {},
   "outputs": [],
   "source": [
    "img2 = Image2Pipeline(output_dir=\"stage2/output-steps\")\n",
    "\n",
    "img2.save_model(results['flat_field'], \n",
    "                suffix=\"calints\",\n",
    "                output_file=results['flat_field'].meta.filename)"
   ]
  },
  {
   "cell_type": "markdown",
   "id": "0ca134e3-5409-48ea-865a-f2affacf697c",
   "metadata": {},
   "source": [
    "For more pipeline notebooks, see the examples https://github.com/spacetelescope/jwebbinar_prep/tree/main/pipeline_inflight"
   ]
  },
  {
   "cell_type": "code",
   "execution_count": null,
   "id": "d25f19a4-4e5e-4f7f-b7e8-57f84fdd61f3",
   "metadata": {},
   "outputs": [],
   "source": []
  }
 ],
 "metadata": {
  "kernelspec": {
   "display_name": "Python [conda env:jwst_inspector]",
   "language": "python",
   "name": "conda-env-jwst_inspector-py"
  },
  "language_info": {
   "codemirror_mode": {
    "name": "ipython",
    "version": 3
   },
   "file_extension": ".py",
   "mimetype": "text/x-python",
   "name": "python",
   "nbconvert_exporter": "python",
   "pygments_lexer": "ipython3",
   "version": "3.9.12"
  }
 },
 "nbformat": 4,
 "nbformat_minor": 5
}
