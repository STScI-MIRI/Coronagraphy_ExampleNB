{
 "cells": [
  {
   "cell_type": "markdown",
   "id": "2614abda-960a-48e7-97cd-3d240cc9c57e",
   "metadata": {},
   "source": [
    "<a id='top'></a>\n",
    "# calwebb_coron3\n",
    "---\n",
    "In this notebook, we run `calwebb_coron3` using a custom association file.\n",
    "\n",
    "We require Stage 2b (\"calints\") files for:\n",
    " - background-subtracted PSF reference star exposures\n",
    " - background-subtracted science target exposures\n",
    "\n",
    "**Author**: Jonathan Aguilar (jaguilar@stsci.edu) | **Latest Update**: Nov 2 Oct 2023"
   ]
  },
  {
   "cell_type": "markdown",
   "id": "cc6e1f8b-43cf-42dd-ad09-96f68f69add4",
   "metadata": {},
   "source": [
    "* [Introduction](#intro)\n",
    "* [Pipeline Resources and Documentation](#resources)\n",
    "* [Imports](#imports)\n",
    "* [Convenience tools](#convenience_tools)\n",
    "* [File selection](#file_selection)\n",
    "* [Run Stage 3](#coron3)"
   ]
  },
  {
   "cell_type": "markdown",
   "id": "c4434da5-44e5-477b-9b65-7da71f9f891e",
   "metadata": {},
   "source": [
    "<a id='intro'></a>\n",
    "## Introduction\n",
    "\n",
    "The Stage 3 JWST pipeline for coronagraphy takes photometrically calibrated `calints` pipeline products as input, and performs the following steps:\n",
    "\n",
    "- outlier detection\n",
    "- reference stacking and alignment\n",
    "- PSF subtraction with the KLIP algorithnm\n",
    "- Image resampling and World Coordinate System registration\n",
    "\n",
    "Each input `calints` dataproduct consists of a 3-D cube that has units of MJy/Sr. This notebook breaks the calwebb_coron3 (also called Coron3Pipeline) pipeline class into steps, runs each step independently, and examines the output. It demonstrates how to change the parameters used to execute each step.\n",
    "\n"
   ]
  },
  {
   "cell_type": "markdown",
   "id": "6ea992ce-5505-4fc0-acc2-7a836970e242",
   "metadata": {},
   "source": [
    "<a id='resources'></a>\n",
    "## Pipeline resources and documentation\n",
    "\n",
    "Documentation on `calwebb_coron3` and the steps run on MIRI coronagraphy data specifically can be found here: https://jwst-pipeline.readthedocs.io/en/latest/jwst/pipeline/calwebb_coron3.html."
   ]
  },
  {
   "cell_type": "markdown",
   "id": "d020a8b2-954c-4091-b12e-ac4e1e19f5aa",
   "metadata": {},
   "source": [
    "<a id='imports'></a>\n",
    "## Imports"
   ]
  },
  {
   "cell_type": "code",
   "execution_count": null,
   "id": "cb9e99c1-0a74-44b4-a48a-df8ff75a26ba",
   "metadata": {},
   "outputs": [],
   "source": [
    "import os\n",
    "from collections import OrderedDict\n",
    "from pathlib import Path"
   ]
  },
  {
   "cell_type": "code",
   "execution_count": null,
   "id": "f7c204f4-30c2-4785-948f-631a847b8638",
   "metadata": {},
   "outputs": [],
   "source": [
    "import numpy as np"
   ]
  },
  {
   "cell_type": "code",
   "execution_count": null,
   "id": "8db23daf-b763-44c5-8772-2c45c7f2ccd2",
   "metadata": {},
   "outputs": [],
   "source": [
    "import matplotlib as mpl\n",
    "from matplotlib import pyplot as plt\n",
    "from astropy.io import fits"
   ]
  },
  {
   "cell_type": "markdown",
   "id": "4f92e3e0-3c76-4872-bbc2-f8c609ff02e7",
   "metadata": {},
   "source": [
    "<a id='convenience_tools'></a>\n",
    "## Convenience tools\n",
    "\n",
    "Environment paths and functions that make life easier.\n",
    "\n",
    "First, set up a local CRDS directory. When the pipeline pulls a reference file from CRDS for the first time, it will write a copy to this directory. All subsequent reads of the reference file will redirect to the local directory instead of sending the file again over the network."
   ]
  },
  {
   "cell_type": "markdown",
   "id": "393458b7-dcfd-4b68-8d51-f0fc87e6435f",
   "metadata": {},
   "source": [
    "Use the local repository of reference files because it's faster\n",
    "\n",
    "See https://jwst-pipeline.readthedocs.io/en/latest/jwst/user_documentation/reference_files_crds.html#crds"
   ]
  },
  {
   "cell_type": "code",
   "execution_count": null,
   "id": "e8520fc8-21a4-44ba-9a17-61b867d060a4",
   "metadata": {},
   "outputs": [],
   "source": [
    "os.environ['CRDS_PATH'] = '/Volumes/agdisk/crds/'\n",
    "# os.environ['CRDS_PATH'] = ''\n",
    "os.environ['CRDS_SERVER_URL'] = 'https://jwst-crds.stsci.edu'"
   ]
  },
  {
   "cell_type": "markdown",
   "id": "280727c6-58e5-4c0f-8f74-60ea512caf66",
   "metadata": {},
   "source": [
    "## Pipeline imports"
   ]
  },
  {
   "cell_type": "code",
   "execution_count": null,
   "id": "5d40942d-42bd-45f9-a19a-760c9176f77e",
   "metadata": {},
   "outputs": [],
   "source": [
    "import jwst\n",
    "jwst.__version__"
   ]
  },
  {
   "cell_type": "code",
   "execution_count": null,
   "id": "ffb6ccf8-29a5-49d5-9639-568f3417505b",
   "metadata": {},
   "outputs": [],
   "source": [
    "from jwst import datamodels\n",
    "from jwst.datamodels import dqflags"
   ]
  },
  {
   "cell_type": "code",
   "execution_count": null,
   "id": "65a3c43b-53d6-4020-9fcb-40a18d4bd408",
   "metadata": {},
   "outputs": [],
   "source": [
    "from jwst.pipeline import Coron3Pipeline"
   ]
  },
  {
   "cell_type": "markdown",
   "id": "026d1301-f083-48cb-8100-558cca0df1c5",
   "metadata": {},
   "source": [
    "Advanced users - uncomment the cell below and specify the context if you have a specific combination of reference files you want to use"
   ]
  },
  {
   "cell_type": "code",
   "execution_count": null,
   "id": "fcf6ea1e-cf61-4a93-a2d2-dab17117c911",
   "metadata": {},
   "outputs": [],
   "source": [
    "# os.environ['CRDS_CONTEXT'] = 'jwst_1140.pmap'"
   ]
  },
  {
   "cell_type": "code",
   "execution_count": null,
   "id": "ce4c701d-f344-4513-8cd9-651246a07992",
   "metadata": {},
   "outputs": [],
   "source": [
    "# some plot formatting\n",
    "mpl.rcParams['image.origin'] = \"lower\""
   ]
  },
  {
   "cell_type": "code",
   "execution_count": null,
   "id": "3de9e3c5-0632-4a1c-97ae-c4c39a754754",
   "metadata": {},
   "outputs": [],
   "source": [
    "# you may need to run this command twice for plots to pop up correctly\n",
    "# %matplotlib auto\n",
    "%matplotlib inline"
   ]
  },
  {
   "cell_type": "markdown",
   "id": "c100c225-7f69-40ea-8949-8f8bee5fd4d9",
   "metadata": {},
   "source": [
    "<a id=\"file_selection\"></a>\n",
    "## Collect Stage 2 products\n",
    "\n",
    "The cells below will collect the Stage 2 files generated by the `calwebb_image2-all_exposures.ipynb` notebook. If you have run that notebook already, you can continue on with the current notebook. If you have not run that notebook but would like to use the same example data, you can retrieve the example exposures directly from MAST using the code snippet below. \n",
    "\n",
    "If you have your own exposures you would like to use, please prodide them as a list to the `filenames` variable. \n",
    "\n",
    "<div class=\"alert alert-block alert-info\">\n",
    "Snippet for downloading Stage 2 ERS-1386 data:\n",
    "\n",
    "```\n",
    "filenames = [\n",
    "    'jw01386008001_04101_00001_mirimage_calints.fits',  # Science target, roll 1\n",
    "    'jw01386009001_04101_00001_mirimage_calints.fits',  # Science target, roll 2\n",
    "    'jw01386007001_04101_00001_mirimage_calints.fits',  # PSF reference star observations\n",
    "    'jw01386007001_04101_00002_mirimage_calints.fits',\n",
    "    'jw01386007001_04101_00003_mirimage_calints.fits',\n",
    "    'jw01386007001_04101_00004_mirimage_calints.fits',\n",
    "    'jw01386007001_04101_00005_mirimage_calints.fits',\n",
    "    'jw01386007001_04101_00006_mirimage_calints.fits',\n",
    "    'jw01386007001_04101_00007_mirimage_calints.fits',\n",
    "    'jw01386007001_04101_00008_mirimage_calints.fits',\n",
    "    'jw01386007001_04101_00009_mirimage_calints.fits',\n",
    "]\n",
    "from astroquery.mast import Observations\n",
    "for filename in filenames:\n",
    "    Observations.download_file(f\"mast:JWST/product/{filename}\", local_path= f\"./stage3/input/{filename}\")\n",
    "example_cal_file = f\"./stage3/input/{filenames[0]}\"\n",
    "```\n",
    "\n",
    "</div>\n"
   ]
  },
  {
   "cell_type": "code",
   "execution_count": null,
   "id": "1582016e-be64-482f-ab33-5dcb49cc8baa",
   "metadata": {},
   "outputs": [],
   "source": [
    "filenames = sorted(Path(\"stage2/output-asn_all/\").glob(\"*calints.fits\"))"
   ]
  },
  {
   "cell_type": "markdown",
   "id": "01cd820e-bc35-49f6-b9a6-67f8dfc8b735",
   "metadata": {},
   "source": [
    "### Get the rateints files\n",
    "\n"
   ]
  },
  {
   "cell_type": "markdown",
   "id": "0b4b0423-6cc4-4158-a424-e27581161a3d",
   "metadata": {},
   "source": [
    "Let's do a quick inspection of one of the files."
   ]
  },
  {
   "cell_type": "code",
   "execution_count": null,
   "id": "f583de8a-20e1-434e-a19f-0c88191349a9",
   "metadata": {},
   "outputs": [],
   "source": [
    "example_cal_file = filenames[0]"
   ]
  },
  {
   "cell_type": "code",
   "execution_count": null,
   "id": "ea8eba88-29f8-437d-a7b4-d80b3bd94380",
   "metadata": {},
   "outputs": [],
   "source": [
    "# print some basic information\n",
    "fits.info(example_cal_file)"
   ]
  },
  {
   "cell_type": "code",
   "execution_count": null,
   "id": "147c9ad8-b38b-47db-aeea-ad4cfd78fb77",
   "metadata": {},
   "outputs": [],
   "source": [
    "# a simple plot\n",
    "fig, ax = plt.subplots(1, 1)\n",
    "img = np.nanmean(fits.getdata(example_cal_file, 1), axis=0)\n",
    "imlims = dict(zip(['vmin', 'vmax'], np.nanquantile(img, [0.01, 0.99])))\n",
    "ax.imshow(img, **imlims, origin='lower')"
   ]
  },
  {
   "cell_type": "code",
   "execution_count": null,
   "id": "a16b20a2-4422-4937-b31f-8909687c9797",
   "metadata": {},
   "outputs": [],
   "source": [
    "# Sort the files into science or PSF target, using the IS_PSF header keyword\n",
    "files = {\n",
    "    'sci': [],\n",
    "    'psf': []\n",
    "}\n",
    "\n",
    "for f in filenames:\n",
    "    is_psf = fits.getval(f, 'IS_PSF', 0)\n",
    "    if is_psf == True:\n",
    "        files['psf'].append(str(f.resolve()))\n",
    "    else: # is_psf == False\n",
    "        files['sci'].append(str(f.resolve()))\n",
    "        \n",
    "files"
   ]
  },
  {
   "cell_type": "markdown",
   "id": "effe6259-082a-46fe-a6b9-f124784551ad",
   "metadata": {},
   "source": [
    "<a id='image2'></a>\n",
    "## Run calwebb_coron3\n",
    "\n",
    "To run calwebb_coron3, with have to generate an association file"
   ]
  },
  {
   "cell_type": "markdown",
   "id": "53e6ce8e-2d57-44ec-b0de-c783ba6870b6",
   "metadata": {},
   "source": [
    "The steps, in order of execution, are:\n"
   ]
  },
  {
   "cell_type": "markdown",
   "id": "bc9b453a-3764-443a-b215-caec6bfc2812",
   "metadata": {},
   "source": [
    "We're going to write out the results of each step to disk, and also keep a copy in memory in the `results` dict generated in the cell below."
   ]
  },
  {
   "cell_type": "code",
   "execution_count": null,
   "id": "962f1477-83b4-478a-842a-79bcea82f798",
   "metadata": {},
   "outputs": [],
   "source": [
    "from jwst import associations\n",
    "from jwst.associations.lib.rules_level3_base import DMS_Level3_Base\n",
    "from jwst.associations import asn_from_list"
   ]
  },
  {
   "cell_type": "code",
   "execution_count": null,
   "id": "fb5f2a0a-d4a2-4e98-94dd-6237e72d268c",
   "metadata": {},
   "outputs": [],
   "source": [
    "for f in files['sci'] + files['psf']:\n",
    "    keys = ['SUBARRAY', 'IS_PSF', 'OBSERVTN', 'TARGNAME']\n",
    "    vals = '\\t'.join(str(fits.getval(f, k, 0)) for k in keys)\n",
    "    print(vals)"
   ]
  },
  {
   "cell_type": "code",
   "execution_count": null,
   "id": "55cf42ae-f96c-410b-910f-a3316dd6a549",
   "metadata": {},
   "outputs": [],
   "source": [
    "# to generate a proper background-subtracting association file, \n",
    "# first make one with just the science files and then add the background files\n",
    "# by hand\n",
    "asn = asn_from_list.asn_from_list(files['sci'], \n",
    "                                  rule=DMS_Level3_Base, \n",
    "                                  product_name='test')\n",
    "\n",
    "for f in files['psf']:\n",
    "    asn['products'][0]['members'].append({'expname': str(f), 'exptype': 'psf'})"
   ]
  },
  {
   "cell_type": "code",
   "execution_count": null,
   "id": "d1bc45ac-70b5-4497-8914-53b0ad7404b8",
   "metadata": {},
   "outputs": [],
   "source": [
    "asn"
   ]
  },
  {
   "cell_type": "markdown",
   "id": "75382bc4-8181-463c-9228-7418e6ba8a17",
   "metadata": {},
   "source": [
    "#### "
   ]
  },
  {
   "cell_type": "code",
   "execution_count": null,
   "id": "8488ddd9-cf45-4367-adf4-7b49f0e2f959",
   "metadata": {},
   "outputs": [],
   "source": [
    "# write this out to a json file\n",
    "with open('stage3/coron3_asn.json', 'w') as fp:\n",
    "    fp.write(asn.dump()[1])"
   ]
  },
  {
   "cell_type": "markdown",
   "id": "5a0ccf05-42c3-4b52-8774-840602a7f2dc",
   "metadata": {},
   "source": [
    "## Run Coron3\n",
    "\n",
    "\n",
    "`calwebb_coron3` executes 5 different steps:\n",
    "- `outlier_detection`\n",
    "    Check for cosmic rays in PSF and science targets, and set the DQ flag appropriately. This has also been done during the Stage 1 `jump` step, but comparing multiple associated exposures can often be more senstitive. \n",
    "    - step-specific arguments (see https://jwst-pipeline.readthedocs.io/en/latest/jwst/outlier_detection/arguments.html for documentation):\n",
    "        - `weight_type ['ivm']`\n",
    "        - `pixfrac [1.0]`\n",
    "        - `kernel ['square']`\n",
    "        - `fillval ['INDEF']`\n",
    "        - `nlow [0]`:\n",
    "        - `nhigh [0]`\n",
    "        - `maskpt [0.7]`:\n",
    "        - `grow [1]`\n",
    "        - `snr ['5.0 4.0']`\n",
    "        - `scale ['1.2 0.7']`\n",
    "        - `backg [0.0]`\n",
    "        - `kernel_size ['7 7']`\n",
    "        - `threshold_percent [99.8]`\n",
    "        - `ifu_second_check [False]`\n",
    "        - `save_intermediate_results [False]`\n",
    "        - `resample_data [True]`\n",
    "        - `good_bits ['~DO_NOT_USE']`\n",
    "        - `scale_detection [False]`\n",
    "- `stack_refs`\n",
    "    - This step takes the various reference exposures and stacks them into a single 3-D data cube, preparing them for the subsequent steps of the stage. No other changes are made.\n",
    "    - step-specific arguments: None\n",
    "- `align_refs`\n",
    "    - Computes offsets between science target images and reference PSF images, and shifts the PSF images into alignment.\n",
    "    - step-specific arguments:\n",
    "        - `median_box_length [3]`: box size used to median-replace bad pixels\n",
    "        - `bad_bits ['DO_NOT_USE']`: DQ values to consider when median-replacing bad pixels\n",
    "- `klip`\n",
    "    - Generate a model PSF from the references using the KLIP algorithm and subtract it from the science data\n",
    "    - step-specific arguments:\n",
    "        - `truncate [50]`: The maximum number of KL modes to use\n",
    "- `resample`\n",
    "    - This routine will resample each input 2D image based on the WCS and distortion information, and will combine multiple resampled images into a single undistorted product.\n",
    "    - step-specific arguments (see https://jwst-pipeline.readthedocs.io/en/latest/jwst/resample/arguments.html for documentation): \n",
    "        - `pixfrac [1.0]`\n",
    "        - `kernel ['square']`\n",
    "        - `fillval ['INDEF']`\n",
    "        - `weight_type ['ivm']`\n",
    "        - `output_shape [None]`\n",
    "        - `crpix [None]`\n",
    "        - `crval [None]`\n",
    "        - `rotation [None]`\n",
    "        - `pixel_scale_ratio [1.0]`\n",
    "        - `pixel_scale [None]`\n",
    "        - `output_wcs ['']`\n",
    "        - `single [False]`\n",
    "        - `blendheaders [True]`\n",
    "\n",
    "\n",
    "\n",
    "The parameter dictionary - available with the command `param_dict = Coron3Pipeline().get_pars()` - contains the parameters and default values for each step. You can see the parameters for a particular step with `param_dict['steps'][{step_name}]`. In this example we are going to change the `truncate` parameter of the `klip` step from 50 to 25."
   ]
  },
  {
   "cell_type": "code",
   "execution_count": null,
   "id": "db39af7b-10be-40e0-83a1-83f175b71239",
   "metadata": {
    "scrolled": true,
    "tags": []
   },
   "outputs": [],
   "source": [
    "# you can get a list of available options with `Coron3Pipeline().get_pars()`\n",
    "params = {\n",
    "    'output_dir': \"./stage3/output/\",\n",
    "    'save_results': True\n",
    "    'steps': {\n",
    "        'klip': {'truncate': 25},\n",
    "    }\n",
    "}\n",
    "\n",
    "cor3 = Coron3Pipeline().call(\n",
    "    \"stage3/coron3_asn.json\",\n",
    "    **params,\n",
    ")"
   ]
  },
  {
   "cell_type": "markdown",
   "id": "8b455901-765e-4c19-9416-0ce75a5caa66",
   "metadata": {},
   "source": [
    "## Examine output"
   ]
  },
  {
   "cell_type": "code",
   "execution_count": null,
   "id": "de01b931-6b74-4890-93b0-312ebfe176d8",
   "metadata": {},
   "outputs": [],
   "source": [
    "%matplotlib inline"
   ]
  },
  {
   "cell_type": "code",
   "execution_count": null,
   "id": "4f47d9a4-616a-4d02-b491-773c4e34f433",
   "metadata": {},
   "outputs": [],
   "source": [
    "imgs = {'roll1': datamodels.open(\"./stage3/output/jw01386008001_04101_00001_mirimage_a3001_psfsub.fits\").data.copy(),\n",
    "        'roll2': datamodels.open(\"./stage3/output/jw01386009001_04101_00001_mirimage_a3001_psfsub.fits\").data.copy(),\n",
    "        'combo': datamodels.open(\"./stage3/output/test_i2d.fits\").data.copy()}"
   ]
  },
  {
   "cell_type": "code",
   "execution_count": null,
   "id": "7c7561ed-f99c-47ee-a7ca-cc432b26b86f",
   "metadata": {},
   "outputs": [],
   "source": [
    "fig, axes = plt.subplots(nrows=1, ncols=3, figsize=(16, 8))\n",
    "vmin, vmax = np.nanquantile(np.concatenate(list([i.ravel() for i in imgs.values()])), [0.05, 0.95])\n",
    "for i, roll in enumerate(imgs.keys()):\n",
    "    img = imgs[roll]\n",
    "    while img.ndim > 2:\n",
    "        img = np.nanmean(img, axis=0)\n",
    "    ax = axes[i]\n",
    "    ax.set_title(roll)\n",
    "    ax.imshow(img, vmin=vmin, vmax=vmax)"
   ]
  },
  {
   "cell_type": "markdown",
   "id": "e4ebb025-66a7-45d1-b7b8-8b2bc72354e5",
   "metadata": {},
   "source": [
    "## Overlay sky coordinates\n",
    "\n",
    "Overlay the RA and Dec grid over the combined rolls"
   ]
  },
  {
   "cell_type": "code",
   "execution_count": null,
   "id": "946b0e5e-7606-4255-95e0-77087a3990ca",
   "metadata": {},
   "outputs": [],
   "source": [
    "from astropy.wcs import WCS"
   ]
  },
  {
   "cell_type": "code",
   "execution_count": null,
   "id": "021792ef-e8fe-49ac-9d20-5db63042a276",
   "metadata": {},
   "outputs": [],
   "source": [
    "with fits.open(\"stage3/output/test_i2d.fits\") as f:\n",
    "    wcs = WCS(f[1].header)"
   ]
  },
  {
   "cell_type": "code",
   "execution_count": null,
   "id": "9f45b499-cfda-4702-a5e1-acab7f68986f",
   "metadata": {},
   "outputs": [],
   "source": [
    "from astropy import units\n",
    "from astropy.coordinates import SkyCoord, Distance\n",
    "from astropy import time"
   ]
  },
  {
   "cell_type": "code",
   "execution_count": null,
   "id": "58e3c50b-4927-4e88-ac22-f54d935d898c",
   "metadata": {},
   "outputs": [],
   "source": [
    "# The star coordinates at the time of observation are in the header\n",
    "exp_file = files['sci'][0]\n",
    "targ_ra = fits.getval(exp_file, 'TARG_RA', 0)\n",
    "targ_dec = fits.getval(exp_file, 'TARG_DEC', 0)\n",
    "starcoord = SkyCoord(targ_ra, targ_dec, unit='deg', frame='icrs')"
   ]
  },
  {
   "cell_type": "code",
   "execution_count": null,
   "id": "1e42ccb7-497b-45c7-abc0-0c4f4267c2d3",
   "metadata": {},
   "outputs": [],
   "source": [
    "fig, ax = plt.subplots(1, 1, subplot_kw={'projection':wcs})\n",
    "vmin, vmax = np.nanquantile(imgs['combo'], [0.01, 0.99])\n",
    "ax.imshow(imgs['combo'], vmin=vmin, vmax=vmax)\n",
    "ax.scatter(*wcs.world_to_pixel(starcoord),\n",
    "           marker='x', s=100, c='w')\n",
    "ax.grid(True)"
   ]
  },
  {
   "cell_type": "code",
   "execution_count": null,
   "id": "8be69182-66b7-4626-bc61-1798240172bf",
   "metadata": {},
   "outputs": [],
   "source": []
  }
 ],
 "metadata": {
  "kernelspec": {
   "display_name": "Python [conda env:jwst_inspector]",
   "language": "python",
   "name": "conda-env-jwst_inspector-py"
  },
  "language_info": {
   "codemirror_mode": {
    "name": "ipython",
    "version": 3
   },
   "file_extension": ".py",
   "mimetype": "text/x-python",
   "name": "python",
   "nbconvert_exporter": "python",
   "pygments_lexer": "ipython3",
   "version": "3.9.12"
  }
 },
 "nbformat": 4,
 "nbformat_minor": 5
}
