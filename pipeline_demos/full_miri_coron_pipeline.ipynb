{
 "cells": [
  {
   "cell_type": "markdown",
   "id": "2614abda-960a-48e7-97cd-3d240cc9c57e",
   "metadata": {},
   "source": [
    "<a id='top'></a>\n",
    "# Full Calibration Pipeline\n",
    "---\n",
    "\n",
    "Run the stage 1 pipeline on all the relevant reference science, PSF and background files\n",
    "\n",
    "- Science observations: 8, 9\n",
    "- Science backgrounds: 30\n",
    "- Reference observations: 7\n",
    "- Reference backgrounds: 31\n",
    "\n",
    "**Author**: Jonathan Aguilar (jaguilar@stsci.edu) | **Latest Update**: 25 Oct 2023"
   ]
  },
  {
   "cell_type": "markdown",
   "id": "cc6e1f8b-43cf-42dd-ad09-96f68f69add4",
   "metadata": {},
   "source": [
    "* [Introduction](#intro)\n",
    "* [Pipeline Resources and Documentation](#resources)\n",
    "* [Imports](#imports)\n",
    "* [Convenience tools](#convenience_tools)\n",
    "* [File selection](#file_selection)\n",
    "* [Run the pipeline stages](#pipeline)\n",
    "    * [Detector1](#detector1)\n",
    "    * [Image2](#image2)\n",
    "    * [Coron3](#coron3)"
   ]
  },
  {
   "cell_type": "markdown",
   "id": "c4434da5-44e5-477b-9b65-7da71f9f891e",
   "metadata": {},
   "source": [
    "<a id='intro'></a>\n",
    "## Introduction\n",
    "\n",
    "This notebook runs a complete set of observations through the all the pipeline stages. This includes:\n",
    "- 2 observations of the science target at different roll angles (1 exposure each)\n",
    "- 1 observation of the PSF reference target, taken with a 9-pt dither pattern (9 exposures total)\n",
    "- 2 background observations associated with each star, each taken with a 2-pt dither pattern (2 groups of 2 observations).\n",
    "\n",
    "\n",
    "We will construct our own association files that the pipeline will use to perform background and PSF subtraction. \n",
    "\n",
    "## Required folder structure\n",
    "\n",
    "This notebook depends on the following folder structure for input and output:\n",
    "- `./uncal/` -> location for the downloaded uncal files\n",
    "- `./full_pipeline_output/` -> for association files and stage output folders\n",
    "    - `stage1/` -> for `calwebb_detector1` output\n",
    "    - `stage2/` -> for `calwebb_image2` output\n",
    "    - `stage3/` -> for `calwebb_coron3` output    "
   ]
  },
  {
   "cell_type": "markdown",
   "id": "6ea992ce-5505-4fc0-acc2-7a836970e242",
   "metadata": {},
   "source": [
    "<a id='resources'></a>\n",
    "## Pipeline resources and documentation\n",
    "\n",
    "Documentation on the stages and steps run on MIRI coronagraphy data specifically can be found here: https://jwst-pipeline.readthedocs.io/en/latest/jwst/pipeline/main.html#pipelines\n",
    "- `calwebb_detector1` https://jwst-pipeline.readthedocs.io/en/latest/jwst/pipeline/calwebb_detector1.html#calwebb-detector1\n",
    "- `calwebb_image2` https://jwst-pipeline.readthedocs.io/en/latest/jwst/pipeline/calwebb_image2.html#calwebb-image2\n",
    "- `calwebb_coron3` https://jwst-pipeline.readthedocs.io/en/latest/jwst/pipeline/calwebb_coron3.html#calwebb-coron3\n",
    "\n",
    "For science users, the most important stages are `calwebb_detector1` and `calwebb_image2`. These convert the data from raw, uncalibrated detector numbers into datacubes with units of MJy/sr. `calwebb_coron3` is primarily a tool for preliminary examination of the data."
   ]
  },
  {
   "cell_type": "markdown",
   "id": "d020a8b2-954c-4091-b12e-ac4e1e19f5aa",
   "metadata": {},
   "source": [
    "<a id='imports'></a>\n",
    "## Imports"
   ]
  },
  {
   "cell_type": "code",
   "execution_count": null,
   "id": "cb9e99c1-0a74-44b4-a48a-df8ff75a26ba",
   "metadata": {},
   "outputs": [],
   "source": [
    "import os\n",
    "from collections import OrderedDict\n",
    "from pathlib import Path"
   ]
  },
  {
   "cell_type": "code",
   "execution_count": null,
   "id": "f7c204f4-30c2-4785-948f-631a847b8638",
   "metadata": {},
   "outputs": [],
   "source": [
    "import numpy as np"
   ]
  },
  {
   "cell_type": "code",
   "execution_count": null,
   "id": "8db23daf-b763-44c5-8772-2c45c7f2ccd2",
   "metadata": {},
   "outputs": [],
   "source": [
    "import matplotlib as mpl\n",
    "from matplotlib import pyplot as plt\n",
    "from astropy.io import fits"
   ]
  },
  {
   "cell_type": "markdown",
   "id": "4f92e3e0-3c76-4872-bbc2-f8c609ff02e7",
   "metadata": {},
   "source": [
    "<a id='convenience_tools'></a>\n",
    "## Convenience tools\n",
    "\n",
    "Environment paths and functions that make life easier.\n",
    "\n",
    "First, set up a local CRDS directory. When the pipeline pulls a reference file from CRDS for the first time, it will write a copy to this directory. All subsequent reads of the reference file will redirect to the local directory instead of sending the file again over the network."
   ]
  },
  {
   "cell_type": "markdown",
   "id": "393458b7-dcfd-4b68-8d51-f0fc87e6435f",
   "metadata": {},
   "source": [
    "Use the local repository of reference files because it's faster\n",
    "\n",
    "See https://jwst-pipeline.readthedocs.io/en/latest/jwst/user_documentation/reference_files_crds.html#crds"
   ]
  },
  {
   "cell_type": "code",
   "execution_count": null,
   "id": "e8520fc8-21a4-44ba-9a17-61b867d060a4",
   "metadata": {},
   "outputs": [],
   "source": [
    "os.environ['CRDS_PATH'] = '/Volumes/agdisk/crds/'\n",
    "# os.environ['CRDS_PATH'] = ''\n",
    "os.environ['CRDS_SERVER_URL'] = 'https://jwst-crds.stsci.edu'"
   ]
  },
  {
   "cell_type": "markdown",
   "id": "026d1301-f083-48cb-8100-558cca0df1c5",
   "metadata": {},
   "source": [
    "Advanced users - uncomment the cell below and specify the context if you have a specific combination of reference files you want to use"
   ]
  },
  {
   "cell_type": "code",
   "execution_count": null,
   "id": "fcf6ea1e-cf61-4a93-a2d2-dab17117c911",
   "metadata": {},
   "outputs": [],
   "source": [
    "# os.environ['CRDS_CONTEXT'] = 'jwst_1140.pmap'"
   ]
  },
  {
   "cell_type": "code",
   "execution_count": null,
   "id": "ce4c701d-f344-4513-8cd9-651246a07992",
   "metadata": {},
   "outputs": [],
   "source": [
    "# some plot formatting\n",
    "mpl.rcParams['image.origin'] = \"lower\""
   ]
  },
  {
   "cell_type": "code",
   "execution_count": null,
   "id": "3de9e3c5-0632-4a1c-97ae-c4c39a754754",
   "metadata": {},
   "outputs": [],
   "source": [
    "# you may need to run this command twice for plots to pop up correctly\n",
    "# %matplotlib auto\n",
    "%matplotlib inline"
   ]
  },
  {
   "cell_type": "code",
   "execution_count": null,
   "id": "d94b8782-5e6c-44a5-bc9e-93520c61453d",
   "metadata": {},
   "outputs": [],
   "source": [
    "# this helper function to map out a particular DQ flag will be useful\n",
    "# DQ flags can be found here: \n",
    "# https://jwst.readthedocs.io/en/latest/jwst/references_general/references_general.html#data-quality-flags\n",
    "def get_dq_flag(flag, dq_img):\n",
    "    \"\"\"return the pixels that have a given DQ flag\"\"\"\n",
    "    bad_bitvalue = dqflags.pixel[flag]\n",
    "    flags = np.bitwise_and(dq_img, bad_bitvalue).astype(bool)\n",
    "    return flags"
   ]
  },
  {
   "cell_type": "markdown",
   "id": "c100c225-7f69-40ea-8949-8f8bee5fd4d9",
   "metadata": {},
   "source": [
    "<a id=\"file_selection\"></a>\n",
    "## Select a file for processing\n",
    "\n",
    "Please replace the path in the cell below with a path to a file on your own system. \n",
    "\n",
    "If you would like to use this specific exposure as an example, you can retrieve it from MAST as follows:\n",
    "```\n",
    "filenames = [\n",
    "    'jw01386004001_04101_00001_mirimage_uncal.fits',  # Science target, roll 1\n",
    "    'jw01386005001_04101_00001_mirimage_uncal.fits',  # Science target, roll 2\n",
    "    'jw01386006001_04101_00001_mirimage_uncal.fits',  # PSF reference star observations\n",
    "    'jw01386006001_04101_00002_mirimage_uncal.fits',\n",
    "    'jw01386006001_04101_00003_mirimage_uncal.fits',\n",
    "    'jw01386006001_04101_00004_mirimage_uncal.fits',\n",
    "    'jw01386006001_04101_00005_mirimage_uncal.fits',\n",
    "    'jw01386006001_04101_00006_mirimage_uncal.fits',\n",
    "    'jw01386006001_04101_00007_mirimage_uncal.fits',\n",
    "    'jw01386006001_04101_00008_mirimage_uncal.fits',\n",
    "    'jw01386006001_04101_00009_mirimage_uncal.fits',\n",
    "    'jw01386028001_02101_00001_mirimage_uncal.fits',  # Science backgrounds\n",
    "    'jw01386028001_03101_00001_mirimage_uncal.fits',\n",
    "    'jw01386029001_02101_00001_mirimage_uncal.fits',  # PSF reference star backgrounds\n",
    "    'jw01386029001_03101_00001_mirimage_uncal.fits',\n",
    "]\n",
    "from astroquery.mast import Observations\n",
    "for filename in filenames:\n",
    "    Observations.download_file(f\"mast:JWST/product/{filename}\", local_path= f\"./uncal/{filename}\")\n",
    "uncal_file = f\"./uncal/{filenames[0]}\"\n",
    "```"
   ]
  },
  {
   "cell_type": "code",
   "execution_count": null,
   "id": "9f345d66-285a-43fb-8d19-a8f6772b04eb",
   "metadata": {},
   "outputs": [],
   "source": [
    "filenames = [\n",
    "    'jw01386008001_04101_00001_mirimage_uncal.fits',  # Science target, roll 1\n",
    "    'jw01386009001_04101_00001_mirimage_uncal.fits',  # Science target, roll 2\n",
    "    'jw01386007001_04101_00001_mirimage_uncal.fits',  # PSF reference star observations\n",
    "    'jw01386007001_04101_00002_mirimage_uncal.fits',\n",
    "    'jw01386007001_04101_00003_mirimage_uncal.fits',\n",
    "    'jw01386007001_04101_00004_mirimage_uncal.fits',\n",
    "    'jw01386007001_04101_00005_mirimage_uncal.fits',\n",
    "    'jw01386007001_04101_00006_mirimage_uncal.fits',\n",
    "    'jw01386007001_04101_00007_mirimage_uncal.fits',\n",
    "    'jw01386007001_04101_00008_mirimage_uncal.fits',\n",
    "    'jw01386007001_04101_00009_mirimage_uncal.fits',\n",
    "    'jw01386030001_02101_00001_mirimage_uncal.fits',  # Science backgrounds\n",
    "    'jw01386030001_03101_00001_mirimage_uncal.fits',\n",
    "    'jw01386031001_02101_00001_mirimage_uncal.fits',  # PSF reference star backgrounds\n",
    "    'jw01386031001_03101_00001_mirimage_uncal.fits',\n",
    "]\n",
    "from astroquery.mast import Observations\n",
    "for filename in filenames:\n",
    "    Observations.download_file(f\"mast:JWST/product/{filename}\", local_path= f\"./uncal/{filename}\")"
   ]
  },
  {
   "cell_type": "markdown",
   "id": "74be97ee-9e6c-4ab9-abf5-d812c2a8220c",
   "metadata": {},
   "source": [
    "<a id='pipieline'></a>\n",
    "## Calibration pipeline"
   ]
  },
  {
   "cell_type": "code",
   "execution_count": null,
   "id": "0e01c5ec-73e6-49df-9bff-0fd687271cc1",
   "metadata": {},
   "outputs": [],
   "source": [
    "import jwst\n",
    "jwst.__version__"
   ]
  },
  {
   "cell_type": "code",
   "execution_count": null,
   "id": "6574b607-26d4-4915-8512-8534594d7ee9",
   "metadata": {},
   "outputs": [],
   "source": [
    "from jwst.pipeline import (\n",
    "    Detector1Pipeline, \n",
    "    Image2Pipeline,\n",
    "    Coron3Pipeline\n",
    ")"
   ]
  },
  {
   "cell_type": "code",
   "execution_count": null,
   "id": "fe39fd9a-74c1-4860-acc9-24531e845ebb",
   "metadata": {},
   "outputs": [],
   "source": [
    "output_dir = Path(\"full_pipeline_output\")"
   ]
  },
  {
   "cell_type": "markdown",
   "id": "effe6259-082a-46fe-a6b9-f124784551ad",
   "metadata": {},
   "source": [
    "<a id='detector1'></a>\n",
    "### Stage 1: Detector corrections"
   ]
  },
  {
   "cell_type": "markdown",
   "id": "bc9b453a-3764-443a-b215-caec6bfc2812",
   "metadata": {},
   "source": [
    "We're going to write out the results of each step to disk, and also keep a copy in memory in the `results` dict generated in the cell below. Make sure you increase the maximum number of cores to at least quarter or half."
   ]
  },
  {
   "cell_type": "code",
   "execution_count": null,
   "id": "b57c478c-060c-4cd1-bfa0-0e70cb7a75e4",
   "metadata": {
    "scrolled": true,
    "tags": []
   },
   "outputs": [],
   "source": [
    "for i, f in enumerate(filenames):\n",
    "    # run det1\n",
    "    print(\"\\n\\n\\n\", i+1, len(filenames), \"\\n\\n\\n\")\n",
    "    filename = str(Path(\"uncal\") / f)\n",
    "    res1 = Detector1Pipeline.call(\n",
    "        filename,\n",
    "        output_dir=str(output_dir / \"stage1\"),\n",
    "        save_results=True,\n",
    "        steps={\n",
    "            'jump': {'maximum_cores': 'half'},\n",
    "            'ramp_fit': {'maximum_cores': 'half'}\n",
    "        }\n",
    "    )"
   ]
  },
  {
   "cell_type": "markdown",
   "id": "d690e171-35bb-47b8-85d5-1702d985ded3",
   "metadata": {},
   "source": [
    "<a id='image2'></a>\n",
    "### Stage 2: Photometric calibration"
   ]
  },
  {
   "cell_type": "code",
   "execution_count": null,
   "id": "8576bf30-a77e-4932-a2a5-45f79957619b",
   "metadata": {},
   "outputs": [],
   "source": [
    "from jwst.associations import asn_from_list\n",
    "from jwst.associations.lib.rules_level2_base import DMSLevel2bBase"
   ]
  },
  {
   "cell_type": "code",
   "execution_count": null,
   "id": "b329800d-a3e1-4bd0-8c58-90be88a66668",
   "metadata": {},
   "outputs": [],
   "source": [
    "det1_files = sorted((output_dir / \"stage1\").glob(\"*rateints.fits\"))\n",
    "# remove TACQ exposures\n",
    "for i in [i for i, f in enumerate(det1_files) if fits.getval(f, \"EXP_TYPE\", 0) == \"MIR_TACQ\"][::-1]:\n",
    "    det1_files.pop(i)"
   ]
  },
  {
   "cell_type": "code",
   "execution_count": null,
   "id": "68544f4c-b99a-4e6f-b27d-c250663824d8",
   "metadata": {},
   "outputs": [],
   "source": [
    "# separate the files into star and background exposures using the BKGDTARG keyword\n",
    "files = {'sci': [], 'sci-bgnd': [], \n",
    "         'psf': [], 'psf-bgnd': []}\n",
    "for f in det1_files:\n",
    "    obsnum = int(fits.getval(f, 'OBSERVTN', 0))\n",
    "    if obsnum in [8, 9]:\n",
    "        files['sci'].append(str(f.resolve()))\n",
    "    elif obsnum == 7:\n",
    "        files['psf'].append(str(f.resolve()))\n",
    "    elif obsnum == 30:\n",
    "        files['sci-bgnd'].append(str(f.resolve()))\n",
    "    elif obsnum == 31:\n",
    "        files['psf-bgnd'].append(str(f.resolve()))\n",
    "    else:\n",
    "        pass"
   ]
  },
  {
   "cell_type": "code",
   "execution_count": null,
   "id": "07f76ee2-c623-4499-9d55-17e1f5069524",
   "metadata": {},
   "outputs": [],
   "source": [
    "# to generate a proper background-subtracting association file, \n",
    "# first make one with just the star exposures, and then add the background \n",
    "# files by hand\n",
    "asn_sci = asn_from_list.asn_from_list(files['sci'], rule=DMSLevel2bBase)\n",
    "asn_psf = asn_from_list.asn_from_list(files['psf'], rule=DMSLevel2bBase)"
   ]
  },
  {
   "cell_type": "code",
   "execution_count": null,
   "id": "8d82fa25-3171-4a5c-8405-e3b7f0bd9513",
   "metadata": {},
   "outputs": [],
   "source": [
    "asn_sci"
   ]
  },
  {
   "cell_type": "markdown",
   "id": "f6c4fd78-862b-4794-ac7f-325edc46a7ee",
   "metadata": {},
   "source": [
    "This is what the ASN file looks like, with only the PSF star observations included"
   ]
  },
  {
   "cell_type": "code",
   "execution_count": null,
   "id": "9eb27655-78f5-4e9e-bea0-28f5d511083d",
   "metadata": {},
   "outputs": [],
   "source": [
    "# for each dataproduct in the products, add the background files by hand\n",
    "for product in asn_sci['products']:\n",
    "    for f in files['sci-bgnd']:\n",
    "        product['members'].append({'expname': f, 'exptype': 'background'})\n",
    "for product in asn_psf['products']:\n",
    "    for f in files['psf-bgnd']:\n",
    "        product['members'].append({'expname': f, 'exptype': 'background'})        "
   ]
  },
  {
   "cell_type": "code",
   "execution_count": null,
   "id": "c64d8b56-25af-41f8-be16-73b07c5c5291",
   "metadata": {},
   "outputs": [],
   "source": [
    "# write this out to a json file\n",
    "# It's going to complain about paths, but ignore it\n",
    "with open(output_dir / 'sci-coron_bkgsubtest_asn.json', 'w') as fp:\n",
    "    fp.write(asn_sci.dump()[1])\n",
    "with open(output_dir / 'psf-coron_bkgsubtest_asn.json', 'w') as fp:\n",
    "    fp.write(asn_psf.dump()[1])    "
   ]
  },
  {
   "cell_type": "code",
   "execution_count": null,
   "id": "fb6d88c0-9573-4e64-8113-5aea341d81fa",
   "metadata": {
    "scrolled": true,
    "tags": []
   },
   "outputs": [],
   "source": [
    "# you can get a list of available options with `Image2Pipeline().get_pars()`\n",
    "params = {\n",
    "    'output_dir': str(output_dir / \"stage2\"),\n",
    "    'save_results': True,\n",
    "    'save_bsub': True,\n",
    "    'steps': {\n",
    "        'bkg_subtract': {\n",
    "            'save_combined_background': True\n",
    "        },\n",
    "    }\n",
    "}\n",
    "\n",
    "img2 = Image2Pipeline.call(\n",
    "    str(output_dir / \"sci-coron_bkgsubtest_asn.json\"),\n",
    "    **params,\n",
    ")\n",
    "img2 = Image2Pipeline.call(\n",
    "    str(output_dir / \"psf-coron_bkgsubtest_asn.json\"),\n",
    "    **params,\n",
    ")"
   ]
  },
  {
   "cell_type": "markdown",
   "id": "0118f79d-e62f-46e6-8a5e-2385e8af2bbf",
   "metadata": {},
   "source": [
    "<a id='coron3'></a>\n",
    "### Stage 3: PSF subtraction\n",
    "\n",
    "To run calwebb_coron3, we have to generate an association file and tell it which exposures belong to the science target and which belong to the PSF reference star."
   ]
  },
  {
   "cell_type": "code",
   "execution_count": null,
   "id": "83c2f5e5-86ae-4fd1-b8a4-dc565e70a9f4",
   "metadata": {},
   "outputs": [],
   "source": [
    "img2_files = sorted((output_dir / \"stage2\").glob(\"*calints.fits\"))"
   ]
  },
  {
   "cell_type": "code",
   "execution_count": null,
   "id": "b947da6d-667b-470a-aa16-c472a0831ced",
   "metadata": {},
   "outputs": [],
   "source": [
    "# Sort the files into science or PSF target, using the IS_PSF header keyword\n",
    "files = {\n",
    "    'sci': [],\n",
    "    'psf': []\n",
    "}\n",
    "\n",
    "for f in img2_files:\n",
    "    is_psf = fits.getval(f, 'IS_PSF', 0)\n",
    "    if is_psf == True:\n",
    "        files['psf'].append(str(f.resolve()))\n",
    "    else: # is_psf == False\n",
    "        files['sci'].append(str(f.resolve()))\n",
    "        \n",
    "files"
   ]
  },
  {
   "cell_type": "markdown",
   "id": "a2745333-3490-4770-85f9-5f481e7c7f60",
   "metadata": {},
   "source": [
    "The steps, in order of execution, are:\n"
   ]
  },
  {
   "cell_type": "markdown",
   "id": "a60b40da-04c7-48de-9a88-c4685786f96f",
   "metadata": {},
   "source": [
    "We're going to write out the results of each step to disk, and also keep a copy in memory in the `results` dict generated in the cell below."
   ]
  },
  {
   "cell_type": "code",
   "execution_count": null,
   "id": "f8a3dca0-979e-4b0d-a24f-48c016976c6c",
   "metadata": {},
   "outputs": [],
   "source": [
    "from jwst.associations.lib.rules_level3_base import DMS_Level3_Base"
   ]
  },
  {
   "cell_type": "code",
   "execution_count": null,
   "id": "e2020338-0f56-4b59-ae65-39bc08ce880a",
   "metadata": {},
   "outputs": [],
   "source": [
    "# to generate a proper background-subtracting association file, \n",
    "# first make one with just the science files and then add the background files\n",
    "# by hand\n",
    "asn = asn_from_list.asn_from_list(files['sci'], rule=DMS_Level3_Base, product_name='test')\n",
    "for f in files['psf']:\n",
    "    asn['products'][0]['members'].append({'expname': str(f), 'exptype': 'psf'})"
   ]
  },
  {
   "cell_type": "markdown",
   "id": "abf9006e-272d-450d-b8b5-4a9fa7a3f777",
   "metadata": {},
   "source": [
    "#### "
   ]
  },
  {
   "cell_type": "code",
   "execution_count": null,
   "id": "b926e540-df5c-471e-88b5-abade5c9d187",
   "metadata": {},
   "outputs": [],
   "source": [
    "# write this out to a json file\n",
    "with open(str(output_dir / 'coron3_asn.json'), 'w') as fp:\n",
    "    fp.write(asn.dump()[1])"
   ]
  },
  {
   "cell_type": "markdown",
   "id": "4057bfee-96d8-446b-9624-37b6b025d19c",
   "metadata": {},
   "source": [
    "Run Coron3 with default parameters."
   ]
  },
  {
   "cell_type": "code",
   "execution_count": null,
   "id": "753218ba-ad29-4c64-aa67-918eac3eded7",
   "metadata": {
    "scrolled": true,
    "tags": []
   },
   "outputs": [],
   "source": [
    "# you can get a list of available options with `Coron3Pipeline().get_pars()`\n",
    "params = {\n",
    "    'output_dir': str(output_dir / \"stage3\"),\n",
    "    'save_results': True\n",
    "}\n",
    "\n",
    "cor3 = Coron3Pipeline.call(\n",
    "    str(output_dir / 'coron3_asn.json'),\n",
    "    **params,\n",
    ")"
   ]
  }
 ],
 "metadata": {
  "kernelspec": {
   "display_name": "Python [conda env:jwst_inspector]",
   "language": "python",
   "name": "conda-env-jwst_inspector-py"
  },
  "language_info": {
   "codemirror_mode": {
    "name": "ipython",
    "version": 3
   },
   "file_extension": ".py",
   "mimetype": "text/x-python",
   "name": "python",
   "nbconvert_exporter": "python",
   "pygments_lexer": "ipython3",
   "version": "3.9.12"
  }
 },
 "nbformat": 4,
 "nbformat_minor": 5
}
